{
  "nbformat": 4,
  "nbformat_minor": 0,
  "metadata": {
    "kernelspec": {
      "display_name": "Python 3",
      "language": "python",
      "name": "python3"
    },
    "language_info": {
      "codemirror_mode": {
        "name": "ipython",
        "version": 3
      },
      "file_extension": ".py",
      "mimetype": "text/x-python",
      "name": "python",
      "nbconvert_exporter": "python",
      "pygments_lexer": "ipython3",
      "version": "3.6.5"
    },
    "colab": {
      "name": "LR_Text_Binary_Classification_v6.ipynb",
      "provenance": [],
      "collapsed_sections": [
        "QAMgkOJMh-pc",
        "kyYWQZxch-pk",
        "wVuW6rvyh-p3",
        "IEFxkgEgh-qV",
        "ekyJUjAgh-qW",
        "lBX1DVpih-qd",
        "mpOwh-ahh-qg",
        "zaof69dp6-mw",
        "EyJSM8BP-ZZw",
        "9CSsx9oVOPa0",
        "UQRKccGNOrox",
        "bVTG2OzGyjkk",
        "HfyAQX7F6lfJ",
        "UDrbrm0A6uqy",
        "D0kWqLZv6zdo",
        "u8asO5nZ62im",
        "kRR4DlPS65T-",
        "snsqinWH681A"
      ]
    }
  },
  "cells": [
    {
      "cell_type": "markdown",
      "metadata": {
        "id": "oajcuMLOh-pa",
        "colab_type": "text"
      },
      "source": [
        "# Implementing a Linear Classifier from Scratch"
      ]
    },
    {
      "cell_type": "markdown",
      "metadata": {
        "id": "QAMgkOJMh-pc",
        "colab_type": "text"
      },
      "source": [
        "# Data"
      ]
    },
    {
      "cell_type": "markdown",
      "metadata": {
        "id": "flMLBB-Ch-pd",
        "colab_type": "text"
      },
      "source": [
        "Data set: [Review polarity v2.0](http://www.cs.cornell.edu/people/pabo/movie-review-data/)."
      ]
    },
    {
      "cell_type": "markdown",
      "metadata": {
        "id": "hc_RN4l9h-pe",
        "colab_type": "text"
      },
      "source": [
        "## Data Download"
      ]
    },
    {
      "cell_type": "code",
      "metadata": {
        "id": "tPGWT5JPh-pg",
        "colab_type": "code",
        "outputId": "1aa0b56f-8778-413f-e8da-ca2b78b0e835",
        "colab": {
          "base_uri": "https://localhost:8080/",
          "height": 35
        }
      },
      "source": [
        "data_url = \"\"\"http://www.cs.cornell.edu/people/pabo/movie-review-data/review_polarity.tar.gz\"\"\"\n",
        "fn = data_url.split(\"/\")[-1]\n",
        "\n",
        "import urllib.request\n",
        "urllib.request.urlretrieve(data_url, fn)\n",
        "!tar zxf review_polarity.tar.gz\n",
        "!ls"
      ],
      "execution_count": 0,
      "outputs": [
        {
          "output_type": "stream",
          "text": [
            "poldata.README.2.0  review_polarity.tar.gz  sample_data  txt_sentoken\n"
          ],
          "name": "stdout"
        }
      ]
    },
    {
      "cell_type": "markdown",
      "metadata": {
        "id": "kyYWQZxch-pk",
        "colab_type": "text"
      },
      "source": [
        "## Data Preprocessing"
      ]
    },
    {
      "cell_type": "markdown",
      "metadata": {
        "id": "M-HTd0wqh-pl",
        "colab_type": "text"
      },
      "source": [
        "### Data Reading"
      ]
    },
    {
      "cell_type": "code",
      "metadata": {
        "id": "P-XPaCMXh-pn",
        "colab_type": "code",
        "outputId": "0b8de8a0-9864-4c66-ac63-5f0b76ca682a",
        "colab": {
          "base_uri": "https://localhost:8080/",
          "height": 35
        }
      },
      "source": [
        "import os\n",
        "filenames = list()\n",
        "for root, dirs, files in os.walk(\"./txt_sentoken\"):\n",
        "    for name in files:\n",
        "          filenames.append(os.path.join(root, name))\n",
        "print(\"Found %i files\" % len(filenames))"
      ],
      "execution_count": 0,
      "outputs": [
        {
          "output_type": "stream",
          "text": [
            "Found 2000 files\n"
          ],
          "name": "stdout"
        }
      ]
    },
    {
      "cell_type": "code",
      "metadata": {
        "id": "Cr6JWN7dh-pt",
        "colab_type": "code",
        "outputId": "48005c26-0e51-41b8-f8ca-46e83f354755",
        "colab": {
          "base_uri": "https://localhost:8080/",
          "height": 190
        }
      },
      "source": [
        "import numpy as np\n",
        "\n",
        "X_txt = list()\n",
        "y = list()\n",
        "import random\n",
        "random.shuffle(filenames)\n",
        "for i, fn in enumerate(filenames):\n",
        "    if fn.find(\"/pos/\") > 0:\n",
        "        msg = \"positive\"\n",
        "        y.append(1)\n",
        "    else:\n",
        "        msg = \"negative\"\n",
        "        y.append(-1)\n",
        "    with open(fn) as f:\n",
        "        X_txt.append(f.read())\n",
        "    if i < 10:\n",
        "        print(fn, msg, \"example\")\n",
        "\n",
        "y = np.asarray(y)\n",
        "assert len(X_txt) == y.shape[0]"
      ],
      "execution_count": 0,
      "outputs": [
        {
          "output_type": "stream",
          "text": [
            "./txt_sentoken/neg/cv649_13947.txt negative example\n",
            "./txt_sentoken/pos/cv543_5045.txt positive example\n",
            "./txt_sentoken/pos/cv272_18974.txt positive example\n",
            "./txt_sentoken/pos/cv907_3541.txt positive example\n",
            "./txt_sentoken/pos/cv178_12972.txt positive example\n",
            "./txt_sentoken/neg/cv530_17949.txt negative example\n",
            "./txt_sentoken/pos/cv631_4967.txt positive example\n",
            "./txt_sentoken/neg/cv963_7208.txt negative example\n",
            "./txt_sentoken/pos/cv340_13287.txt positive example\n",
            "./txt_sentoken/neg/cv044_18429.txt negative example\n"
          ],
          "name": "stdout"
        }
      ]
    },
    {
      "cell_type": "markdown",
      "metadata": {
        "id": "SneTfQkvh-px",
        "colab_type": "text"
      },
      "source": [
        "Then we can check what we get in `X_txt`."
      ]
    },
    {
      "cell_type": "code",
      "metadata": {
        "id": "tzs-JpWMh-py",
        "colab_type": "code",
        "outputId": "a3c697ee-0cfc-4d96-c947-35a0ea8c9ac3",
        "colab": {
          "base_uri": "https://localhost:8080/",
          "height": 55
        }
      },
      "source": [
        "X_txt[:1]"
      ],
      "execution_count": 0,
      "outputs": [
        {
          "output_type": "execute_result",
          "data": {
            "text/plain": [
              "['plot outline - wendy ( samantha press ) , a jazz singer , loves mack ( hugo race ) a criminal and wanna be rock singer who\\'s planning a bank heist . \\nmack is also being tailed by a couple of cops , one an inexperienced rookie ( dominic sweeney ) , the other ( john flaus ) a worn out veteran who frequents wendy\\'s jazz club . \\nthey\\'re tailing mack , because he has an audiotape that may show evidence of governmental corruption . \\nmeanwhile wendy\\'s sexually awakener , fifteen year old sister ( rebecca elmaloglou ) has moved in with her , and is secretly watching mack and wendy\\'s late night love trysts ? much zaniness ensues \\nthe review : main problem first - about 2% of rood rock star to actor conversions in filmdom ever really work . \\nunfortunately , trying to cast hugo race as a violent , sexy criminal falls into the \" what the hell where they thinking \" category that takes up 98% of the rest . \\nbut , hell , it\\'s not as if he\\'s the only problem in this well-intentioned but ultimately below average aussie thriller . \\nleads , race and samantha press are wooden and dull , hampered by some unfortunate attempts at sexy dialogue early on . \\nthough they do manage some heat later in their love scenes , helped , no doubt by them keeping their mouths shut . \\nthe film suffers every time the story shifts back to these two . \\nwhich is unfortunately , the other main story isn\\'t any great shakes either . \\nthe second part , concerning two cops , political corruption and that elusive tape is incredibly muddled . \\nat many points during the movie i had no idea what was going on , a situation that didn\\'t improve on repeated viewing . \\nthere is no doubt that this film\\'s achilles heel is its script . \\nas for the rest of the cast , it\\'s a mixed bag . \\njohn flaus , one of australia\\'s most criminally underused actors , is in top form as the withering , alcoholic jazz fan cop , who may or may not have sold out to the highest bidder . \\nalthough he falters at one point , when the script calls for him to get up on stage and deliver a drunken beat sermon , but believe me , they way it was written , no one could have pulled it off . \\ndominic sweeney is fine , though he seems to be uneasy in front of the lens but he really isn\\'t given a whole lot to do . \\npre home and away elmaloglou is pretty good as the inquisitive jojo , but her character seems extraneous to the story , well , at least until the final scenes . \\ni must admit , in too deep does have some impressive qualities , not the least of which is it visual element . \\ncinematographers mark gilfedder & peter zakharov have achieved the almost impossible by making melbourne look like a sweat drenched tropic city , which is akin to turning london into san paolo . \\nthe bar is an oppressive red , like all of it\\'s patrons are being baked while they drink , outside it hazy orange by day and cool blue by night . \\nif only deborah parson\\'s script could have supported this idea better . \\nhaving two director\\'s ( colin south & john tatoulis ) doesn\\'t help either , the most glaring example of which is the final retribution/fight scene , where for some reason the camera pulls away from the onscreen action , and more importantly it doesn\\'t pull away to anything else . \\nit just stays static as the fight happens in the distance . \\nit has no reason to it ; it\\'s just bad direction . \\nand , ultimately , that is what sums up in too deep , it\\'s tries to be good , and you want it to work , but , it\\'s just lacking the talent behind it , that it needs to succeed . \\n']"
            ]
          },
          "metadata": {
            "tags": []
          },
          "execution_count": 4
        }
      ]
    },
    {
      "cell_type": "markdown",
      "metadata": {
        "id": "wVuW6rvyh-p3",
        "colab_type": "text"
      },
      "source": [
        "## Text Preprocessing"
      ]
    },
    {
      "cell_type": "markdown",
      "metadata": {
        "id": "lHuniSNEh-p6",
        "colab_type": "text"
      },
      "source": [
        "### Tokenization\n",
        "\n",
        "Here, I just use the space to tokenize a sentence."
      ]
    },
    {
      "cell_type": "markdown",
      "metadata": {
        "id": "U-QMzyUIOmrp",
        "colab_type": "text"
      },
      "source": [
        "Tokenization function:"
      ]
    },
    {
      "cell_type": "code",
      "metadata": {
        "id": "j0I9XNQDh-p7",
        "colab_type": "code",
        "colab": {}
      },
      "source": [
        "import re\n",
        "import string\n",
        "def tokenize(sent):\n",
        "    return [x.strip() for x in re.split('(\\W+)', sent.lower()) if x.strip() and x.strip() not in string.punctuation]"
      ],
      "execution_count": 0,
      "outputs": []
    },
    {
      "cell_type": "markdown",
      "metadata": {
        "id": "hebSVk-Th-p-",
        "colab_type": "text"
      },
      "source": [
        "Then we get our simple tokenize function."
      ]
    },
    {
      "cell_type": "markdown",
      "metadata": {
        "id": "DBEbWNOjh-p_",
        "colab_type": "text"
      },
      "source": [
        "### Remove Stopwords and Build a Vocabulary"
      ]
    },
    {
      "cell_type": "markdown",
      "metadata": {
        "id": "M-Jj0vVzh-qA",
        "colab_type": "text"
      },
      "source": [
        "Get stopwords from NLTK:"
      ]
    },
    {
      "cell_type": "code",
      "metadata": {
        "id": "aD6hLm0eh-qB",
        "colab_type": "code",
        "outputId": "3b5267a3-0315-41f6-8eeb-cf5a5256a539",
        "colab": {
          "base_uri": "https://localhost:8080/",
          "height": 52
        }
      },
      "source": [
        "import nltk\n",
        "nltk.download('stopwords')\n",
        "stopwords = nltk.corpus.stopwords.words('english')"
      ],
      "execution_count": 0,
      "outputs": [
        {
          "output_type": "stream",
          "text": [
            "[nltk_data] Downloading package stopwords to /root/nltk_data...\n",
            "[nltk_data]   Unzipping corpora/stopwords.zip.\n"
          ],
          "name": "stdout"
        }
      ]
    },
    {
      "cell_type": "markdown",
      "metadata": {
        "id": "xrvFOTBHh-qF",
        "colab_type": "text"
      },
      "source": [
        "Build vocabulary and remove stopwords:"
      ]
    },
    {
      "cell_type": "code",
      "metadata": {
        "id": "pKbb5eMmh-qG",
        "colab_type": "code",
        "colab": {}
      },
      "source": [
        "voc = []\n",
        "X_tok = []\n",
        "for sent in X_txt:\n",
        "    new_sent = []\n",
        "    sent_tok = tokenize(sent)\n",
        "    for word in sent_tok:\n",
        "        if word not in stopwords:\n",
        "            new_sent.append(word)\n",
        "            if word not in voc:\n",
        "                voc.append(word)\n",
        "    X_tok.append(new_sent)\n",
        "import random\n",
        "random.shuffle(voc)"
      ],
      "execution_count": 0,
      "outputs": []
    },
    {
      "cell_type": "markdown",
      "metadata": {
        "id": "WIV_R-Z5h-qQ",
        "colab_type": "text"
      },
      "source": [
        "Build a mapping from word to its index:"
      ]
    },
    {
      "cell_type": "code",
      "metadata": {
        "id": "K0kJgAEYh-qS",
        "colab_type": "code",
        "colab": {}
      },
      "source": [
        "word2index = dict((w, i) for i, w in enumerate(voc))"
      ],
      "execution_count": 0,
      "outputs": []
    },
    {
      "cell_type": "markdown",
      "metadata": {
        "id": "IEFxkgEgh-qV",
        "colab_type": "text"
      },
      "source": [
        "# Feature Extraction"
      ]
    },
    {
      "cell_type": "markdown",
      "metadata": {
        "id": "ekyJUjAgh-qW",
        "colab_type": "text"
      },
      "source": [
        "## Bag-of-Word Model (BOW)"
      ]
    },
    {
      "cell_type": "code",
      "metadata": {
        "id": "_ihVM0GDh-qX",
        "colab_type": "code",
        "colab": {}
      },
      "source": [
        "import numpy as np"
      ],
      "execution_count": 0,
      "outputs": []
    },
    {
      "cell_type": "code",
      "metadata": {
        "id": "0LQSfY0Fh-qa",
        "colab_type": "code",
        "colab": {}
      },
      "source": [
        "X_vector = np.zeros((len(X_tok), len(voc)))\n",
        "for sent_i in range(len(X_tok)):\n",
        "    for word in X_tok[sent_i]:\n",
        "        X_vector[sent_i, word2index[word]] = 1"
      ],
      "execution_count": 0,
      "outputs": []
    },
    {
      "cell_type": "markdown",
      "metadata": {
        "id": "1WOsy9RT5cRz",
        "colab_type": "text"
      },
      "source": [
        "Divide `X_vector` into many batches:"
      ]
    },
    {
      "cell_type": "code",
      "metadata": {
        "id": "oQW5vQTS5jKZ",
        "colab_type": "code",
        "colab": {}
      },
      "source": [
        "batch_size = 64\n",
        "index = list(range(2000))\n",
        "random.shuffle(index)\n",
        "X_tmp = X_vector[index]\n",
        "y_tmp = y[index]\n",
        "data_iter = []\n",
        "num_batch = len(y) // batch_size\n",
        "for i in range(num_batch):\n",
        "    X_batch = X_tmp[batch_size * i: batch_size * (i+1)]\n",
        "    y_batch = y_tmp[batch_size * i: batch_size * (i+1)]\n",
        "    data_iter.append((X_batch, y_batch))\n",
        "X_batch = X_tmp[batch_size * num_batch:]\n",
        "y_batch = y_tmp[batch_size * num_batch:]\n",
        "data_iter.append((X_batch, y_batch))"
      ],
      "execution_count": 0,
      "outputs": []
    },
    {
      "cell_type": "markdown",
      "metadata": {
        "id": "lBX1DVpih-qd",
        "colab_type": "text"
      },
      "source": [
        "## Tf-idf Model"
      ]
    },
    {
      "cell_type": "markdown",
      "metadata": {
        "id": "BF_kWbbkPb5j",
        "colab_type": "text"
      },
      "source": [
        "Here, my tfidf formula is:\n",
        "- Term Frequency (tf):\n",
        "\\begin{equation}\n",
        "tf_{i,d}=1+\\log\\left(\\frac{N_{i,d}}{N_d}\\right),\n",
        "\\end{equation}\n",
        "where $tf_{i,d}$ represents the tf of word $i$ in document $d$. $N_{i,d}$ represents the frequency of word $i$ in document $d$. $N_d$ represents the number of words in document d.\n",
        "\n",
        "- Inverse Document Frequency (idf):\n",
        "\\begin{equation}\n",
        "idf_i=\\log\\left(1+\\frac{|D|}{M_i}\\right),\n",
        "\\end{equation}\n",
        "where $idf_i$ represents the idf of word $i$. $|D|$ represents the number of documents in the dataset. $M_i$ represents the number of documents that contain word $i$."
      ]
    },
    {
      "cell_type": "markdown",
      "metadata": {
        "id": "-CFiMYZr1r15",
        "colab_type": "text"
      },
      "source": [
        "First, I compute the idf for each word in the vocabulary."
      ]
    },
    {
      "cell_type": "code",
      "metadata": {
        "id": "wLmqWVtL1VXB",
        "colab_type": "code",
        "colab": {}
      },
      "source": [
        "idf = dict()\n",
        "for word in voc:\n",
        "  idf[word] = 0\n",
        "  for sent in X_tok:\n",
        "    if word in sent:\n",
        "      idf[word] += 1\n",
        "      break"
      ],
      "execution_count": 0,
      "outputs": []
    },
    {
      "cell_type": "code",
      "metadata": {
        "id": "ZOm5jn6P1lkB",
        "colab_type": "code",
        "colab": {}
      },
      "source": [
        "for word in idf:\n",
        "  idf[word] = np.log(1 + 2000 / idf[word])"
      ],
      "execution_count": 0,
      "outputs": []
    },
    {
      "cell_type": "markdown",
      "metadata": {
        "id": "eT1-JPjW1ukw",
        "colab_type": "text"
      },
      "source": [
        "Then I compute the **tfidf** vector for each document."
      ]
    },
    {
      "cell_type": "code",
      "metadata": {
        "id": "QEBZaZmv1ySa",
        "colab_type": "code",
        "colab": {}
      },
      "source": [
        "from collections import Counter\n",
        "X_tfidf = np.zeros((2000, len(voc)))\n",
        "for i in range(2000):\n",
        "  sent = X_tok[i]\n",
        "  c = Counter(sent)\n",
        "  for word in c:\n",
        "    X_tfidf[i, word2index[word]] = (1 + np.log(c[word] / len(sent))) * idf[word]"
      ],
      "execution_count": 0,
      "outputs": []
    },
    {
      "cell_type": "markdown",
      "metadata": {
        "id": "mpOwh-ahh-qg",
        "colab_type": "text"
      },
      "source": [
        "# Logistic Regression Model"
      ]
    },
    {
      "cell_type": "markdown",
      "metadata": {
        "id": "1CKh8yCDXjMZ",
        "colab_type": "text"
      },
      "source": [
        "In this part, I write a class of logistic regression model."
      ]
    },
    {
      "cell_type": "markdown",
      "metadata": {
        "id": "QS9WIZ72XoKc",
        "colab_type": "text"
      },
      "source": [
        "## Class Description:\n",
        "**Input:**\n",
        "- **input_size**: the dimension of a sample;\n",
        "- **learning_rate**: learning rate of gradient descent method;\n",
        "- **loss_type**: we can use two types of loss function. The first type is `'logistic'` and the second type is `'hinge'`;\n",
        "- **opt_type**: we can use 6 types of optimization methods here, including `'SGD'`, `'momentum'`, `'RMSprop'`, `'AdaGrad'`, `'AdaDelta'` and `'Adam'`.\n",
        "- **momentum_beta**: the hyperparameter of momentum optimization method;\n",
        "- **RMSprop_beta**: the hyperparameter of RMSprop optimization method;\n",
        "- **AdaDelta_beta**: the hyperparameter of AdaDelta optimization method;\n",
        "- **Adam_beta1** and **Adam_beta2**: the hyperparameters of Adam optimization method;\n",
        "- **regularizer**: we can use two types of regularization here, \"L1\" and \"L2\";\n",
        "- **beta**: regularization dampen;"
      ]
    },
    {
      "cell_type": "markdown",
      "metadata": {
        "id": "nSG3sHGua0pw",
        "colab_type": "text"
      },
      "source": [
        "**Methods in the Class:**\n",
        "- **_sigmoid:** It's used to compute the sigmoid function;\n",
        "- **forward:** It's used to compute the forward propagation of the model.\n",
        "$$\n",
        "\\begin{equation}\n",
        "\\begin{split}\n",
        "y&=sigmoid(z)\\\\\n",
        "&=sigmoid(W^Tx).\n",
        "\\end{split}\n",
        "\\end{equation}\n",
        "$$\n",
        "- **gradient:** It's use to compute the gradient of $W$. Different loss functions will use different method to compute their gradients. If we use logistics loss function:\n",
        "$$\n",
        "\\begin{equation}\n",
        "loss_{logistic}(W)=\\frac{1}{N}\\sum_i\\left[y_i\\log\\hat{y}_i+(1-y_i)\\log\\left(1-\\hat{y}_i\\right)\\right],\n",
        "\\end{equation}\n",
        "$$\n",
        "the gradient of $W$ is\n",
        "$$\n",
        "\\begin{equation}\n",
        "\\frac{\\partial loss_{logistic}(W)}{\\partial W}=\\frac{1}{N}\\sum_i\\left(\\hat{y}_i-y_i\\right)x_i.\n",
        "\\end{equation}\n",
        "$$\n",
        "If we use hinge loss function:\n",
        "$$\n",
        "\\begin{equation}\n",
        "loss_{hinge}(W)=\\frac{1}{N}\\sum_i\\max(0,1-y_i\\cdot\\hat{y}_i),\n",
        "\\end{equation}\n",
        "$$\n",
        "the gradient of W is\n",
        "$$\n",
        "\\begin{equation}\n",
        "\\frac{\\partial loss_{hinge}(W)}{\\partial W}=\\frac{1}{N}\\sum_i\\begin{cases}\n",
        "-y_i\\cdot\\hat{y}_i\\cdot(1-\\hat{y}_i)x_i\\text{, }&1-y_i\\cdot\\hat{y}_i\\geq 0,\\\\\n",
        "0\\text{, }&others.\n",
        "\\end{cases}\n",
        "\\end{equation}\n",
        "$$\n",
        "If we use L2 regularizer in the model, the gradient will be:\n",
        "$$\n",
        "\\begin{equation}\n",
        "\\frac{\\partial loss(W)}{\\partial W}+2*\\beta W.\n",
        "\\end{equation}\n",
        "$$\n",
        "If we use L1 regularizer in the model, the gradient will be:\n",
        "$$\n",
        "\\begin{equation}\n",
        "\\frac{\\partial loss(W)}{\\partial W_i}+\\begin{cases}\n",
        "\\beta\\text{, }&W_i\\geq 0,\\\\\n",
        "-\\beta,\\text{, }&others.\n",
        "\\end{cases}\n",
        "\\end{equation}\n",
        "$$\n",
        "- **loss_fn:** It is used to compute the loss function.\n",
        "- **update:** It's used to update the parameter value of the model. It computes an epoch of all the input data."
      ]
    },
    {
      "cell_type": "markdown",
      "metadata": {
        "id": "GoPRWKU0tvNG",
        "colab_type": "text"
      },
      "source": [
        "**Optimization Method in Class:**\n",
        "Let $g_t$ be the gradient of $W$ at the $t^{th}$ iteration.\n",
        "- **SGD:**\n",
        "$$\n",
        "\\begin{equation}\n",
        "W^{(t+1)}=W^{(t)}-\\alpha g_t.\n",
        "\\end{equation}\n",
        "$$\n",
        "- **Momentum:**\n",
        "$$\n",
        "\\begin{equation}\n",
        "\\Delta W^{(t)}=\\beta\\Delta W^{(t-1)}-\\alpha g_{t},\n",
        "\\end{equation}\n",
        "$$\n",
        "$$\n",
        "\\begin{equation}\n",
        "\\Delta W^{(0)}=0,\n",
        "\\end{equation}\n",
        "$$\n",
        "$$\n",
        "\\begin{equation}\n",
        "W^{(t+1)}=W^{(t)}+\\Delta W^{(t)}.\n",
        "\\end{equation}\n",
        "$$\n",
        "- **RMSprop:**\n",
        "$$\n",
        "\\begin{equation}\n",
        "G_t=\\beta G_{t-1}+(1-\\beta)g_t\\odot g_t,\n",
        "\\end{equation}\n",
        "$$\n",
        "$$\n",
        "G_0=0,\n",
        "$$\n",
        "$$\n",
        "\\begin{equation}\n",
        "W^{(t+1)}=W^{(t)}-\\frac{\\alpha}{\\sqrt{G_t+\\epsilon}}\\odot g_t.\n",
        "\\end{equation}\n",
        "$$\n",
        "- **AdaGrad:**\n",
        "$$\n",
        "Gt=\\sum_{r=1}^tg_r\\odot g_r,\n",
        "$$\n",
        "$$\n",
        "\\begin{equation}\n",
        "W^{(t+1)}=W^{(t)}-\\frac{\\alpha}{\\sqrt{G_t+\\epsilon}}\\odot g_t.\n",
        "\\end{equation}\n",
        "$$\n",
        "- **AdaDelta:**\n",
        "$$\n",
        "\\Delta X^2_{t-1}=\\Delta X^2_{t-2} + (1-\\beta_1)\\Delta W^{(t-1)}\\odot \\Delta W^{(t-1)},\n",
        "$$\n",
        "$$\n",
        "G_t=\\beta G_{t-1}+(1-\\beta)g_t\\odot g_t,\n",
        "$$\n",
        "$$\n",
        "\\Delta X_0^2=0, \\Delta G_0=0,\n",
        "$$\n",
        "$$\n",
        "W^{(t+1)}=W^{(t)}-\\frac{\\sqrt{\\Delta X_{t-1}^2+\\epsilon}}{\\sqrt{G_t+\\epsilon}}g_t.\n",
        "$$\n",
        "- **Adam:**\n",
        "$$\n",
        "M_t=\\beta_1M_{t-1}+(1-\\beta_1)g_t,\n",
        "$$\n",
        "$$\n",
        "G_t=\\beta_2G_{t-1}+(1-\\beta_2)g_t\\odot g_t,\n",
        "$$\n",
        "$$\n",
        "M_0=0, G_0=0,\n",
        "$$\n",
        "$$\n",
        "\\hat{M}_t=\\frac{M_t}{1-\\beta_1^t},\n",
        "$$\n",
        "$$\n",
        "\\hat{G}_t=\\frac{G_t}{1-\\beta_2^t},\n",
        "$$\n",
        "$$\n",
        "W^{(t+1)}=W^{(t)}-\\frac{\\alpha}{\\sqrt{\\hat{G}_t+\\epsilon}}\\hat{M}_t.\n",
        "$$"
      ]
    },
    {
      "cell_type": "code",
      "metadata": {
        "id": "UMtlHa1Yh-qj",
        "colab_type": "code",
        "colab": {}
      },
      "source": [
        "class LR:\n",
        "    def __init__(self, input_size=2, learning_rate=0.001, loss_type='logistic', opt_type='SGD',\n",
        "                momentum_beta=0.9, RMSprop_beta=0.9, AdaDelta_beta=0.9, Adam_beta1=0.9, Adam_beta2=0.99,\n",
        "                regularizer='L2', beta=0.01):\n",
        "        self.input_size = input_size + 1\n",
        "        self.W = np.zeros((self.input_size, 1))\n",
        "        self.lr = learning_rate\n",
        "        self.loss_type = loss_type\n",
        "        self.opt_type = opt_type\n",
        "        self.regularizer = regularizer\n",
        "        self.beta = beta\n",
        "        self.momentum_beta = momentum_beta\n",
        "        self.RMSprop_beta = RMSprop_beta\n",
        "        self.AdaDelta_beta = AdaDelta_beta\n",
        "        self.Adam_beta1 = Adam_beta1\n",
        "        self.Adam_beta2 = Adam_beta2\n",
        "        self.pre_change = 0 # use to store pre_change value in momentum and AdaDelta methods\n",
        "        self.pre_G = 0 # use to store G value in AdaGrad, AdaDelta, RMSprop and Adam methods\n",
        "        self.pre_X = 0 # use to store X value in AdaDelta method\n",
        "        self.pre_M = 0 # use to store M value in Adam method\n",
        "        self.iter_times = 0 # use to store iteration times in Adam method\n",
        "    \n",
        "    def _sigmoid(self, a):\n",
        "        \"\"\"\n",
        "        sigmoid function\n",
        "        \"\"\"\n",
        "        return 1 / (1 + np.exp(-a))\n",
        "    \n",
        "    def forward(self, X):\n",
        "        \"\"\"\n",
        "        Forward propagation\n",
        "        Input:\n",
        "            X: size = [batch_size, self.input_size - 1]\n",
        "        Output:\n",
        "            out: sigmoid(X @ W), size = [batch_size, 1]\n",
        "        \"\"\"\n",
        "        X = np.concatenate((X, np.ones((X.shape[0], 1))), axis=-1)\n",
        "        self.X = X\n",
        "        return self._sigmoid(self.X @ self.W)\n",
        "    \n",
        "    def gradient(self, pred):\n",
        "        \"\"\"\n",
        "        gradient computation function\n",
        "        \"\"\"\n",
        "        if self.loss_type == \"logistic\":\n",
        "            self.grad = np.dot(self.X.T, pred - self.y) / self.y.shape[0]\n",
        "        elif self.loss_type == 'hinge':\n",
        "            self.grad = -self.y * pred * (1 - pred) * self.X\n",
        "            self.grad = np.where((1 - self.y * pred) > 0, self.grad, 0)\n",
        "            self.grad = (self.grad.sum(axis=0) / self.y.shape[0]).reshape(-1, 1)\n",
        "        \n",
        "        if self.regularizer == \"L2\":\n",
        "            self.grad += self.beta * 2 * self.W\n",
        "        elif self.regularizer == \"L1\":\n",
        "            self.grad += self.beta * np.where(self.W > 0, np.ones_like(self.W), -1)\n",
        "    \n",
        "    def loss_fn(self, pred):\n",
        "        if self.loss_type == \"logistic\":\n",
        "            loss = (- self.y * np.log(pred) - (1 - self.y) * np.log(1 - pred)).mean()\n",
        "        elif self.loss_type == \"hinge\":\n",
        "            loss = np.maximum(np.zeros_like(self.y), 1 - self.y * pred).mean()\n",
        "        return loss\n",
        "    \n",
        "    def update(self, X, y):\n",
        "        self.y = y\n",
        "        pred = self.forward(X)\n",
        "        self.gradient(pred)\n",
        "        if self.opt_type == \"SGD\":\n",
        "            self.W -= self.lr * self.grad\n",
        "        elif self.opt_type == \"momentum\":\n",
        "            self.pre_change = self.momentum_beta * self.pre_change - self.lr * self.grad\n",
        "            self.W += self.pre_change\n",
        "        elif self.opt_type == \"RMSprop\":\n",
        "            self.pre_G = self.RMSprop_beta * self.pre_G + (1 - self.RMSprop_beta) * self.grad * self.grad\n",
        "            self.W += -self.lr * self.grad / np.sqrt(self.pre_G + 1e-8)\n",
        "        elif self.opt_type == \"AdaGrad\":\n",
        "            self.pre_G += self.grad * self.grad\n",
        "            self.W += -self.lr * self.grad / np.sqrt(self.pre_G + 1e-8)\n",
        "        elif self.opt_type == \"AdaDelta\":\n",
        "            self.pre_G = self.RMSprop_beta * self.pre_G + (1 - self.RMSprop_beta) * self.grad * self.grad\n",
        "            self.pre_X = self.AdaDelta_beta * self.pre_X + (1 - self.AdaDelta_beta) * self.pre_change * self.pre_change\n",
        "            self.pre_change = -np.sqrt(self.pre_X + 1e-8) / np.sqrt(self.pre_G + 1e-8) * self.grad\n",
        "            self.W += self.pre_change\n",
        "        elif self.opt_type == \"Adam\":\n",
        "            self.iter_times += 1\n",
        "            self.pre_M = self.Adam_beta1 * self.pre_M + (1 - self.Adam_beta1) * self.grad\n",
        "            self.pre_G = self.Adam_beta2 * self.pre_G + (1 - self.Adam_beta2) * self.grad * self.grad\n",
        "            hat_M = self.pre_M / (1 - self.Adam_beta1 ** self.iter_times)\n",
        "            hat_G = self.pre_G / (1 - self.Adam_beta2 ** self.iter_times)\n",
        "            self.W += -self.lr * hat_M / np.sqrt(hat_G + 1e-8)\n",
        "        return self.loss_fn(pred)"
      ],
      "execution_count": 0,
      "outputs": []
    },
    {
      "cell_type": "markdown",
      "metadata": {
        "id": "eqnUXkKy5-Zs",
        "colab_type": "text"
      },
      "source": [
        "## Comparasion of Different Optimization Methods"
      ]
    },
    {
      "cell_type": "code",
      "metadata": {
        "id": "Tbtjn0vuh-qp",
        "colab_type": "code",
        "colab": {}
      },
      "source": [
        "opt_method = [\"SGD\", \"momentum\", \"RMSprop\", \"AdaGrad\", \"AdaDelta\", \"Adam\"]\n",
        "opt_loss = []\n",
        "for opt in opt_method:\n",
        "    model = LR(input_size=X_vector.shape[1], opt_type=opt)\n",
        "    losslist = []\n",
        "    for epoch in range(100):\n",
        "        total_loss = 0.\n",
        "        for batch_data in data_iter:\n",
        "            X_batch, y_batch = batch_data\n",
        "            y_batch[y_batch < 0] = 0\n",
        "            total_loss += model.update(X_batch, y_batch.reshape(-1, 1))\n",
        "        losslist.append(total_loss/2000)\n",
        "    opt_loss.append(losslist)"
      ],
      "execution_count": 0,
      "outputs": []
    },
    {
      "cell_type": "code",
      "metadata": {
        "id": "te2_XnH8h-qs",
        "colab_type": "code",
        "outputId": "09281a53-875e-4b5b-e923-34fcd923dc35",
        "colab": {
          "base_uri": "https://localhost:8080/",
          "height": 350
        }
      },
      "source": [
        "%matplotlib inline\n",
        "import matplotlib.pyplot as plt\n",
        "plt.figure(figsize=(16, 5))\n",
        "for i in range(len(opt_method)):\n",
        "    plt.plot(list(range(100)), opt_loss[i], marker='o')\n",
        "plt.legend(opt_method)\n",
        "plt.xlabel('epoch')\n",
        "plt.ylabel('Avg Loss')\n",
        "plt.title('Optimization Methods Comparasion (LogisticReg)')\n",
        "plt.show()"
      ],
      "execution_count": 0,
      "outputs": [
        {
          "output_type": "display_data",
          "data": {
            "image/png": "[encoded data removed]",
            "text/plain": [
              "<Figure size 1152x360 with 1 Axes>"
            ]
          },
          "metadata": {
            "tags": []
          }
        }
      ]
    },
    {
      "cell_type": "markdown",
      "metadata": {
        "id": "NH5BsuZN2iXU",
        "colab_type": "text"
      },
      "source": [
        "From the figure above, we can find that `SGD` is a poor optimization and `Adam` is the best optimization method in this problem."
      ]
    },
    {
      "cell_type": "markdown",
      "metadata": {
        "id": "zaof69dp6-mw",
        "colab_type": "text"
      },
      "source": [
        "# Exploring hyperparameters"
      ]
    },
    {
      "cell_type": "code",
      "metadata": {
        "id": "LBoRAGX09Xe9",
        "colab_type": "code",
        "colab": {}
      },
      "source": [
        "num_epochs = 100"
      ],
      "execution_count": 0,
      "outputs": []
    },
    {
      "cell_type": "markdown",
      "metadata": {
        "id": "CXgjW__z7Nvv",
        "colab_type": "text"
      },
      "source": [
        "We first need to split our data set into two sets: training set and test set."
      ]
    },
    {
      "cell_type": "code",
      "metadata": {
        "id": "l5YpWLbS7pHB",
        "colab_type": "code",
        "colab": {}
      },
      "source": [
        "from sklearn.model_selection import train_test_split\n",
        "X_train, X_test, y_train, y_test = train_test_split(X_vector, y, test_size=0.33,\n",
        "                                                    random_state=42)"
      ],
      "execution_count": 0,
      "outputs": []
    },
    {
      "cell_type": "markdown",
      "metadata": {
        "id": "e-F7-JBh8ZeE",
        "colab_type": "text"
      },
      "source": [
        "Then we need to divide our data into many batches."
      ]
    },
    {
      "cell_type": "code",
      "metadata": {
        "id": "og0AnN1U8cPl",
        "colab_type": "code",
        "colab": {}
      },
      "source": [
        "batch_size = 64\n",
        "import random\n",
        "index = list(range(len(X_train)))\n",
        "random.shuffle(index)\n",
        "X_tmp = X_train[index]\n",
        "y_tmp = y_train[index]\n",
        "data_iter = []\n",
        "num_batch = len(y_train) // batch_size\n",
        "for i in range(num_batch):\n",
        "    X_batch = X_tmp[batch_size * i: batch_size * (i+1)]\n",
        "    y_batch = y_tmp[batch_size * i: batch_size * (i+1)]\n",
        "    data_iter.append((X_batch, y_batch))\n",
        "X_batch = X_tmp[batch_size * num_batch:]\n",
        "y_batch = y_tmp[batch_size * num_batch:]\n",
        "data_iter.append((X_batch, y_batch))"
      ],
      "execution_count": 0,
      "outputs": []
    },
    {
      "cell_type": "markdown",
      "metadata": {
        "id": "EyJSM8BP-ZZw",
        "colab_type": "text"
      },
      "source": [
        "## Basic model testing:"
      ]
    },
    {
      "cell_type": "markdown",
      "metadata": {
        "id": "YfXVVS8X3cya",
        "colab_type": "text"
      },
      "source": [
        "I first test my model to check whether there are some problems in my code."
      ]
    },
    {
      "cell_type": "markdown",
      "metadata": {
        "id": "97lh78qYOGtS",
        "colab_type": "text"
      },
      "source": [
        "### Logistic loss:"
      ]
    },
    {
      "cell_type": "code",
      "metadata": {
        "id": "hHQMud_c8-pz",
        "colab_type": "code",
        "outputId": "b4b11c09-f689-458b-efa1-696922ebe296",
        "colab": {
          "base_uri": "https://localhost:8080/",
          "height": 104
        }
      },
      "source": [
        "model = LR(input_size=X_train.shape[1], learning_rate=0.001, loss_type='logistic',\n",
        "           opt_type='SGD', regularizer='L2', beta=0.003)\n",
        "for epoch in range(100):\n",
        "    total_loss = 0.\n",
        "    for batch_data in data_iter:\n",
        "        X_batch, y_batch = batch_data\n",
        "        y_batch[y_batch < 0] = 0\n",
        "        total_loss += model.update(X_batch, y_batch.reshape(-1, 1))\n",
        "    if (epoch+1) % 20 == 0:\n",
        "        print(f\"Epoch: {epoch+1}/{num_epochs}. Avg Loss: {total_loss/len(y_train):.8f}.\")"
      ],
      "execution_count": 0,
      "outputs": [
        {
          "output_type": "stream",
          "text": [
            "Epoch: 20/100. Avg Loss: 0.01005448.\n",
            "Epoch: 40/100. Avg Loss: 0.00935750.\n",
            "Epoch: 60/100. Avg Loss: 0.00877165.\n",
            "Epoch: 80/100. Avg Loss: 0.00827228.\n",
            "Epoch: 100/100. Avg Loss: 0.00784094.\n"
          ],
          "name": "stdout"
        }
      ]
    },
    {
      "cell_type": "code",
      "metadata": {
        "id": "I-zUaZSr-lyx",
        "colab_type": "code",
        "outputId": "5dbdb2a5-bca9-4d66-a423-5ec7a7e89f67",
        "colab": {
          "base_uri": "https://localhost:8080/",
          "height": 35
        }
      },
      "source": [
        "pred = model.forward(X_test)\n",
        "pred[pred>0.5] = 1\n",
        "pred[pred<0.5] = -1\n",
        "print(f\"The accuracy on the test set is {(pred==y_test.reshape(-1,1)).sum()/len(y_test):.3%}.\")"
      ],
      "execution_count": 0,
      "outputs": [
        {
          "output_type": "stream",
          "text": [
            "The accuracy on the test set is 82.121%.\n"
          ],
          "name": "stdout"
        }
      ]
    },
    {
      "cell_type": "markdown",
      "metadata": {
        "id": "80wiLMLEOKRy",
        "colab_type": "text"
      },
      "source": [
        "### Hinge loss:"
      ]
    },
    {
      "cell_type": "code",
      "metadata": {
        "id": "eNDuIQBkOMOC",
        "colab_type": "code",
        "outputId": "1d8c205f-0045-49c7-90f6-21b654792013",
        "colab": {
          "base_uri": "https://localhost:8080/",
          "height": 104
        }
      },
      "source": [
        "model = LR(input_size=X_train.shape[1], learning_rate=3.0, loss_type='hinge',\n",
        "           opt_type='SGD', regularizer=None)\n",
        "for epoch in range(100):\n",
        "    total_loss = 0.\n",
        "    for batch_data in data_iter:\n",
        "        X_batch, y_batch = batch_data\n",
        "        y_batch[y_batch < 1] = -1\n",
        "        total_loss += model.update(X_batch, y_batch.reshape(-1, 1))\n",
        "    if (epoch+1) % 20 == 0:\n",
        "        print(f\"Epoch: {epoch+1}/{num_epochs}. Avg Loss: {total_loss/len(y_train):.8f}.\")"
      ],
      "execution_count": 0,
      "outputs": [
        {
          "output_type": "stream",
          "text": [
            "Epoch: 20/100. Avg Loss: 0.00802732.\n",
            "Epoch: 40/100. Avg Loss: 0.00798135.\n",
            "Epoch: 60/100. Avg Loss: 0.00797291.\n",
            "Epoch: 80/100. Avg Loss: 0.00796867.\n",
            "Epoch: 100/100. Avg Loss: 0.00796611.\n"
          ],
          "name": "stdout"
        }
      ]
    },
    {
      "cell_type": "code",
      "metadata": {
        "id": "U9s-Nh1mFa3v",
        "colab_type": "code",
        "outputId": "112d3599-8eae-4a60-b5d5-d3f99e06af49",
        "colab": {
          "base_uri": "https://localhost:8080/",
          "height": 35
        }
      },
      "source": [
        "pred = model.forward(X_test)\n",
        "pred[pred>0.5] = 1\n",
        "pred[pred<0.5] = -1\n",
        "print(f\"The accuracy on the test set for hinge loss is {(pred==y_test.reshape(-1,1)).sum()/len(y_test):.3%}.\")"
      ],
      "execution_count": 0,
      "outputs": [
        {
          "output_type": "stream",
          "text": [
            "The accuracy on the test set for hinge loss is 86.818%.\n"
          ],
          "name": "stdout"
        }
      ]
    },
    {
      "cell_type": "markdown",
      "metadata": {
        "id": "ZSZpgxvc32eX",
        "colab_type": "text"
      },
      "source": [
        "After the experiment above, I think my code is right."
      ]
    },
    {
      "cell_type": "markdown",
      "metadata": {
        "id": "9CSsx9oVOPa0",
        "colab_type": "text"
      },
      "source": [
        "## Logistic Loss Hyperparameters Exploration"
      ]
    },
    {
      "cell_type": "markdown",
      "metadata": {
        "id": "jCXT5l9vAZFO",
        "colab_type": "text"
      },
      "source": [
        "### Logistic Loss Learning Rate"
      ]
    },
    {
      "cell_type": "markdown",
      "metadata": {
        "id": "hZ1E7pyeAvb7",
        "colab_type": "text"
      },
      "source": [
        "In this part, I will keep other hyperparameters unchanged and only use different learning rates to test the logistics model with logistic loss."
      ]
    },
    {
      "cell_type": "code",
      "metadata": {
        "id": "yvq2vK8SBHCP",
        "colab_type": "code",
        "colab": {}
      },
      "source": [
        "from sklearn.model_selection import KFold\n",
        "Learning_rate = [0.0001, 0.0003, 0.001, 0.003, 0.01, 0.03, 1.0, 3.0]"
      ],
      "execution_count": 0,
      "outputs": []
    },
    {
      "cell_type": "markdown",
      "metadata": {
        "id": "PbIHCCLCBk0K",
        "colab_type": "text"
      },
      "source": [
        "Then I will do the 10-folds validation on the training set for my the logistics regression model."
      ]
    },
    {
      "cell_type": "code",
      "metadata": {
        "id": "7O5l3skKCHhj",
        "colab_type": "code",
        "outputId": "3d2d8690-5799-4ee5-8fa3-8133b9781ecf",
        "colab": {
          "base_uri": "https://localhost:8080/",
          "height": 211
        }
      },
      "source": [
        "mean_validation_accuracy = list()\n",
        "for lr in Learning_rate:\n",
        "  validation_accuracy = []\n",
        "  for train, val in KFold(n_splits=10, shuffle=True).split(X_train):\n",
        "    X_tr = X_train[train]\n",
        "    y_tr = y_train[train]\n",
        "    y_tr[y_tr < 0] = 0\n",
        "    X_val = X_train[val]\n",
        "    y_val = y_train[val]\n",
        "    y_val[y_val < 0] = 0\n",
        "    model = LR(input_size=X_train.shape[1], learning_rate=lr, loss_type='logistic',\n",
        "              opt_type='SGD', regularizer=None)\n",
        "    for epoch in range(100):\n",
        "      model.update(X_tr, y_tr.reshape(-1, 1))\n",
        "    pred = model.forward(X_val)\n",
        "    pred[pred>0.5] = 1\n",
        "    pred[pred<0.5] = 0\n",
        "    acc = (pred==y_val.reshape(-1,1)).sum()/len(y_val)\n",
        "    validation_accuracy.append(acc)\n",
        "  mean_validation_accuracy.append(np.mean(validation_accuracy))\n",
        "  print(f\"The mean accuracy of the validation set of lr {lr} is {mean_validation_accuracy[-1]:.3%}.\")"
      ],
      "execution_count": 0,
      "outputs": [
        {
          "output_type": "stream",
          "text": [
            "The mean accuracy of the validation set of lr 0.0001 is 68.657%.\n",
            "The mean accuracy of the validation set of lr 0.0003 is 69.552%.\n",
            "The mean accuracy of the validation set of lr 0.001 is 73.657%.\n",
            "The mean accuracy of the validation set of lr 0.003 is 79.403%.\n",
            "The mean accuracy of the validation set of lr 0.01 is 81.567%.\n",
            "The mean accuracy of the validation set of lr 0.03 is 82.985%.\n",
            "The mean accuracy of the validation set of lr 1.0 is 86.567%.\n"
          ],
          "name": "stdout"
        },
        {
          "output_type": "stream",
          "text": [
            "/usr/local/lib/python3.6/dist-packages/ipykernel_launcher.py:59: RuntimeWarning: divide by zero encountered in log\n",
            "/usr/local/lib/python3.6/dist-packages/ipykernel_launcher.py:59: RuntimeWarning: invalid value encountered in multiply\n"
          ],
          "name": "stderr"
        },
        {
          "output_type": "stream",
          "text": [
            "The mean accuracy of the validation set of lr 3.0 is 85.597%.\n"
          ],
          "name": "stdout"
        }
      ]
    },
    {
      "cell_type": "code",
      "metadata": {
        "id": "001S88hNGg0R",
        "colab_type": "code",
        "outputId": "207cf190-f76e-49ba-dff4-5d50ee56b045",
        "colab": {
          "base_uri": "https://localhost:8080/",
          "height": 300
        }
      },
      "source": [
        "import pandas as pd\n",
        "lr_index = ['lr='+str(lr) for lr in Learning_rate]\n",
        "pd.DataFrame(mean_validation_accuracy, columns=['Mean Validation Acc'], index=lr_index)\n"
      ],
      "execution_count": 0,
      "outputs": [
        {
          "output_type": "execute_result",
          "data": {
            "text/html": [
              "<div>\n",
              "<style scoped>\n",
              "    .dataframe tbody tr th:only-of-type {\n",
              "        vertical-align: middle;\n",
              "    }\n",
              "\n",
              "    .dataframe tbody tr th {\n",
              "        vertical-align: top;\n",
              "    }\n",
              "\n",
              "    .dataframe thead th {\n",
              "        text-align: right;\n",
              "    }\n",
              "</style>\n",
              "<table border=\"1\" class=\"dataframe\">\n",
              "  <thead>\n",
              "    <tr style=\"text-align: right;\">\n",
              "      <th></th>\n",
              "      <th>Mean Validation Acc</th>\n",
              "    </tr>\n",
              "  </thead>\n",
              "  <tbody>\n",
              "    <tr>\n",
              "      <th>lr=0.0001</th>\n",
              "      <td>0.686567</td>\n",
              "    </tr>\n",
              "    <tr>\n",
              "      <th>lr=0.0003</th>\n",
              "      <td>0.695522</td>\n",
              "    </tr>\n",
              "    <tr>\n",
              "      <th>lr=0.001</th>\n",
              "      <td>0.736567</td>\n",
              "    </tr>\n",
              "    <tr>\n",
              "      <th>lr=0.003</th>\n",
              "      <td>0.794030</td>\n",
              "    </tr>\n",
              "    <tr>\n",
              "      <th>lr=0.01</th>\n",
              "      <td>0.815672</td>\n",
              "    </tr>\n",
              "    <tr>\n",
              "      <th>lr=0.03</th>\n",
              "      <td>0.829851</td>\n",
              "    </tr>\n",
              "    <tr>\n",
              "      <th>lr=1.0</th>\n",
              "      <td>0.865672</td>\n",
              "    </tr>\n",
              "    <tr>\n",
              "      <th>lr=3.0</th>\n",
              "      <td>0.855970</td>\n",
              "    </tr>\n",
              "  </tbody>\n",
              "</table>\n",
              "</div>"
            ],
            "text/plain": [
              "           Mean Validation Acc\n",
              "lr=0.0001             0.686567\n",
              "lr=0.0003             0.695522\n",
              "lr=0.001              0.736567\n",
              "lr=0.003              0.794030\n",
              "lr=0.01               0.815672\n",
              "lr=0.03               0.829851\n",
              "lr=1.0                0.865672\n",
              "lr=3.0                0.855970"
            ]
          },
          "metadata": {
            "tags": []
          },
          "execution_count": 76
        }
      ]
    },
    {
      "cell_type": "markdown",
      "metadata": {
        "id": "YZzg9Bro4N6z",
        "colab_type": "text"
      },
      "source": [
        "From the table above, we can find that the best learning rate is $1.0$."
      ]
    },
    {
      "cell_type": "markdown",
      "metadata": {
        "id": "yk8e5nW1I3Ak",
        "colab_type": "text"
      },
      "source": [
        "### Logistic Loss Regularization"
      ]
    },
    {
      "cell_type": "markdown",
      "metadata": {
        "id": "73BKpu57I-I1",
        "colab_type": "text"
      },
      "source": [
        "Here, I will compare two different regularization methods: L1 regularization and L2 regularization."
      ]
    },
    {
      "cell_type": "code",
      "metadata": {
        "id": "U6Bv9St9J_Ap",
        "colab_type": "code",
        "colab": {}
      },
      "source": [
        "regularization = ['L1', 'L2']"
      ],
      "execution_count": 0,
      "outputs": []
    },
    {
      "cell_type": "markdown",
      "metadata": {
        "id": "-wRP2zFWKG4z",
        "colab_type": "text"
      },
      "source": [
        "Then I will do the 10-folds validation on the training set for my the logistics regression model."
      ]
    },
    {
      "cell_type": "code",
      "metadata": {
        "id": "r3ZaiAbtKLzq",
        "colab_type": "code",
        "outputId": "694cf9db-b8eb-4f6d-f398-ce21d47bf738",
        "colab": {
          "base_uri": "https://localhost:8080/",
          "height": 52
        }
      },
      "source": [
        "mean_validation_accuracy1 = list()\n",
        "for r in regularization:\n",
        "  validation_accuracy = []\n",
        "  for train, val in KFold(n_splits=10, shuffle=True).split(X_train):\n",
        "    X_tr = X_train[train]\n",
        "    y_tr = y_train[train]\n",
        "    y_tr[y_tr < 0] = 0\n",
        "    X_val = X_train[val]\n",
        "    y_val = y_train[val]\n",
        "    y_val[y_val < 0] = 0\n",
        "    model = LR(input_size=X_train.shape[1], learning_rate=0.01, loss_type='logistic',\n",
        "              opt_type='SGD', regularizer=r)\n",
        "    for epoch in range(100):\n",
        "      model.update(X_tr, y_tr.reshape(-1, 1))\n",
        "    pred = model.forward(X_val)\n",
        "    pred[pred>0.5] = 1\n",
        "    pred[pred<0.5] = 0\n",
        "    acc = (pred==y_val.reshape(-1,1)).sum()/len(y_val)\n",
        "    validation_accuracy.append(acc)\n",
        "  mean_validation_accuracy1.append(np.mean(validation_accuracy))\n",
        "  print(f\"The mean accuracy of the validation set of {r} regularization is {mean_validation_accuracy1[-1]:.3%}.\")"
      ],
      "execution_count": 0,
      "outputs": [
        {
          "output_type": "stream",
          "text": [
            "The mean accuracy of the validation set of L1 regularization is 78.358%.\n",
            "The mean accuracy of the validation set of L2 regularization is 81.940%.\n"
          ],
          "name": "stdout"
        }
      ]
    },
    {
      "cell_type": "code",
      "metadata": {
        "id": "qip9RSqgLXXp",
        "colab_type": "code",
        "outputId": "f0b40fcf-ebc8-4ba5-cdf7-9216b453e133",
        "colab": {
          "base_uri": "https://localhost:8080/",
          "height": 108
        }
      },
      "source": [
        "import pandas as pd\n",
        "pd.DataFrame(mean_validation_accuracy1, columns=['Mean Validation Acc'], index=['L1', 'L2'])"
      ],
      "execution_count": 0,
      "outputs": [
        {
          "output_type": "execute_result",
          "data": {
            "text/html": [
              "<div>\n",
              "<style scoped>\n",
              "    .dataframe tbody tr th:only-of-type {\n",
              "        vertical-align: middle;\n",
              "    }\n",
              "\n",
              "    .dataframe tbody tr th {\n",
              "        vertical-align: top;\n",
              "    }\n",
              "\n",
              "    .dataframe thead th {\n",
              "        text-align: right;\n",
              "    }\n",
              "</style>\n",
              "<table border=\"1\" class=\"dataframe\">\n",
              "  <thead>\n",
              "    <tr style=\"text-align: right;\">\n",
              "      <th></th>\n",
              "      <th>Mean Validation Acc</th>\n",
              "    </tr>\n",
              "  </thead>\n",
              "  <tbody>\n",
              "    <tr>\n",
              "      <th>L1</th>\n",
              "      <td>0.783582</td>\n",
              "    </tr>\n",
              "    <tr>\n",
              "      <th>L2</th>\n",
              "      <td>0.819403</td>\n",
              "    </tr>\n",
              "  </tbody>\n",
              "</table>\n",
              "</div>"
            ],
            "text/plain": [
              "    Mean Validation Acc\n",
              "L1             0.783582\n",
              "L2             0.819403"
            ]
          },
          "metadata": {
            "tags": []
          },
          "execution_count": 57
        }
      ]
    },
    {
      "cell_type": "markdown",
      "metadata": {
        "id": "ILjphy624clb",
        "colab_type": "text"
      },
      "source": [
        "From the table above, we can find that L2 regularization is better than L1."
      ]
    },
    {
      "cell_type": "markdown",
      "metadata": {
        "id": "88fekjUWMM9n",
        "colab_type": "text"
      },
      "source": [
        "### Logistic Loss Regularizer dampening"
      ]
    },
    {
      "cell_type": "markdown",
      "metadata": {
        "id": "j-Ctk35SMTsG",
        "colab_type": "text"
      },
      "source": [
        "In this part, I will find how much the regularizer needs to be dampened to get a good score."
      ]
    },
    {
      "cell_type": "code",
      "metadata": {
        "id": "60PVjndgMc79",
        "colab_type": "code",
        "colab": {}
      },
      "source": [
        "re_damp = [0.001, 0.003, 0.005, 0.007, 0.009, 0.5, 1.0]"
      ],
      "execution_count": 0,
      "outputs": []
    },
    {
      "cell_type": "markdown",
      "metadata": {
        "id": "nXwPxMTGMqHy",
        "colab_type": "text"
      },
      "source": [
        "Then I will do the 10-folds validation on the training set for my the logistics regression model."
      ]
    },
    {
      "cell_type": "code",
      "metadata": {
        "id": "miYDaEIzMrEt",
        "colab_type": "code",
        "outputId": "722cd7d7-92e0-4d1f-c9ca-c12038de4a0c",
        "colab": {
          "base_uri": "https://localhost:8080/",
          "height": 211
        }
      },
      "source": [
        "mean_validation_accuracy2 = list()\n",
        "for rd in re_damp:\n",
        "  validation_accuracy = []\n",
        "  for train, val in KFold(n_splits=10, shuffle=True).split(X_train):\n",
        "    X_tr = X_train[train]\n",
        "    y_tr = y_train[train]\n",
        "    y_tr[y_tr < 0] = 0\n",
        "    X_val = X_train[val]\n",
        "    y_val = y_train[val]\n",
        "    y_val[y_val < 0] = 0\n",
        "    model = LR(input_size=X_train.shape[1], learning_rate=1.0, loss_type='logistic',\n",
        "              opt_type='SGD', regularizer=\"L2\", beta=rd)\n",
        "    for epoch in range(100):\n",
        "      model.update(X_tr, y_tr.reshape(-1, 1))\n",
        "    pred = model.forward(X_val)\n",
        "    pred[pred>0.5] = 1\n",
        "    pred[pred<0.5] = 0\n",
        "    acc = (pred==y_val.reshape(-1,1)).sum()/len(y_val)\n",
        "    validation_accuracy.append(acc)\n",
        "  mean_validation_accuracy2.append(np.mean(validation_accuracy))\n",
        "  print(f\"The mean accuracy of the validation set of regu_damp {rd} is {mean_validation_accuracy2[-1]:.3%}.\")"
      ],
      "execution_count": 0,
      "outputs": [
        {
          "output_type": "stream",
          "text": [
            "The mean accuracy of the validation set of regu_damp 0.001 is 86.567%.\n",
            "The mean accuracy of the validation set of regu_damp 0.003 is 86.791%.\n",
            "The mean accuracy of the validation set of regu_damp 0.005 is 86.642%.\n",
            "The mean accuracy of the validation set of regu_damp 0.007 is 86.269%.\n",
            "The mean accuracy of the validation set of regu_damp 0.009 is 62.612%.\n"
          ],
          "name": "stdout"
        },
        {
          "output_type": "stream",
          "text": [
            "/usr/local/lib/python3.6/dist-packages/ipykernel_launcher.py:59: RuntimeWarning: divide by zero encountered in log\n",
            "/usr/local/lib/python3.6/dist-packages/ipykernel_launcher.py:59: RuntimeWarning: invalid value encountered in multiply\n"
          ],
          "name": "stderr"
        },
        {
          "output_type": "stream",
          "text": [
            "The mean accuracy of the validation set of regu_damp 0.5 is 51.343%.\n"
          ],
          "name": "stdout"
        },
        {
          "output_type": "stream",
          "text": [
            "/usr/local/lib/python3.6/dist-packages/ipykernel_launcher.py:27: RuntimeWarning: overflow encountered in exp\n"
          ],
          "name": "stderr"
        },
        {
          "output_type": "stream",
          "text": [
            "The mean accuracy of the validation set of regu_damp 1.0 is 51.642%.\n"
          ],
          "name": "stdout"
        }
      ]
    },
    {
      "cell_type": "code",
      "metadata": {
        "id": "ciPL92WxNVuc",
        "colab_type": "code",
        "outputId": "b2838e5b-950d-4a08-d7d8-19bb22203449",
        "colab": {
          "base_uri": "https://localhost:8080/",
          "height": 269
        }
      },
      "source": [
        "re_dam_index = ['beta='+str(rd) for rd in re_damp]\n",
        "pd.DataFrame(mean_validation_accuracy2, columns=['Mean Validation Acc'], index=re_dam_index)"
      ],
      "execution_count": 0,
      "outputs": [
        {
          "output_type": "execute_result",
          "data": {
            "text/html": [
              "<div>\n",
              "<style scoped>\n",
              "    .dataframe tbody tr th:only-of-type {\n",
              "        vertical-align: middle;\n",
              "    }\n",
              "\n",
              "    .dataframe tbody tr th {\n",
              "        vertical-align: top;\n",
              "    }\n",
              "\n",
              "    .dataframe thead th {\n",
              "        text-align: right;\n",
              "    }\n",
              "</style>\n",
              "<table border=\"1\" class=\"dataframe\">\n",
              "  <thead>\n",
              "    <tr style=\"text-align: right;\">\n",
              "      <th></th>\n",
              "      <th>Mean Validation Acc</th>\n",
              "    </tr>\n",
              "  </thead>\n",
              "  <tbody>\n",
              "    <tr>\n",
              "      <th>beta=0.001</th>\n",
              "      <td>0.865672</td>\n",
              "    </tr>\n",
              "    <tr>\n",
              "      <th>beta=0.003</th>\n",
              "      <td>0.867910</td>\n",
              "    </tr>\n",
              "    <tr>\n",
              "      <th>beta=0.005</th>\n",
              "      <td>0.866418</td>\n",
              "    </tr>\n",
              "    <tr>\n",
              "      <th>beta=0.007</th>\n",
              "      <td>0.862687</td>\n",
              "    </tr>\n",
              "    <tr>\n",
              "      <th>beta=0.009</th>\n",
              "      <td>0.626119</td>\n",
              "    </tr>\n",
              "    <tr>\n",
              "      <th>beta=0.5</th>\n",
              "      <td>0.513433</td>\n",
              "    </tr>\n",
              "    <tr>\n",
              "      <th>beta=1.0</th>\n",
              "      <td>0.516418</td>\n",
              "    </tr>\n",
              "  </tbody>\n",
              "</table>\n",
              "</div>"
            ],
            "text/plain": [
              "            Mean Validation Acc\n",
              "beta=0.001             0.865672\n",
              "beta=0.003             0.867910\n",
              "beta=0.005             0.866418\n",
              "beta=0.007             0.862687\n",
              "beta=0.009             0.626119\n",
              "beta=0.5               0.513433\n",
              "beta=1.0               0.516418"
            ]
          },
          "metadata": {
            "tags": []
          },
          "execution_count": 86
        }
      ]
    },
    {
      "cell_type": "markdown",
      "metadata": {
        "id": "T2pf_bxw4qId",
        "colab_type": "text"
      },
      "source": [
        "From the table above, we can find that the best regularizer dampen for L2 regularization is $0.003$."
      ]
    },
    {
      "cell_type": "markdown",
      "metadata": {
        "id": "bO4mpIS2Oh_i",
        "colab_type": "text"
      },
      "source": [
        "### Final set of hyperparameters for Logistic loss"
      ]
    },
    {
      "cell_type": "markdown",
      "metadata": {
        "id": "SafLDJdBOq3r",
        "colab_type": "text"
      },
      "source": [
        "- Learning rate: 1.0\n",
        "- Regularization: L2\n",
        "- Regularization dampen: 0.003"
      ]
    },
    {
      "cell_type": "markdown",
      "metadata": {
        "id": "UQRKccGNOrox",
        "colab_type": "text"
      },
      "source": [
        "## Hinge Loss Hyperparameters Exploration"
      ]
    },
    {
      "cell_type": "markdown",
      "metadata": {
        "id": "H8usm3tWO4A1",
        "colab_type": "text"
      },
      "source": [
        "### Hinge Loss Learning Rate"
      ]
    },
    {
      "cell_type": "code",
      "metadata": {
        "id": "4SyRtpbkO_Rq",
        "colab_type": "code",
        "colab": {}
      },
      "source": [
        "Learning_rate = [0.0001, 0.0003, 0.001, 0.003, 0.01, 0.03, 1.0, 3.0]"
      ],
      "execution_count": 0,
      "outputs": []
    },
    {
      "cell_type": "markdown",
      "metadata": {
        "id": "VaHMi_Q9QTiw",
        "colab_type": "text"
      },
      "source": [
        "Then I will do the 10-folds validation on the training set for my the logistics regression model with hinge loss function."
      ]
    },
    {
      "cell_type": "code",
      "metadata": {
        "id": "LuKcIQVhQOQf",
        "colab_type": "code",
        "outputId": "a1ec66ac-1ae2-4b1e-db5c-d3fa782a3306",
        "colab": {
          "base_uri": "https://localhost:8080/",
          "height": 155
        }
      },
      "source": [
        "mean_validation_accuracy3 = list()\n",
        "for lr in Learning_rate:\n",
        "  validation_accuracy = []\n",
        "  for train, val in KFold(n_splits=10, shuffle=True).split(X_train):\n",
        "    X_tr = X_train[train]\n",
        "    y_tr = y_train[train]\n",
        "    X_val = X_train[val]\n",
        "    y_val = y_train[val]\n",
        "    model = LR(input_size=X_train.shape[1], learning_rate=lr, loss_type='hinge',\n",
        "              opt_type='SGD', regularizer=\"L2\")\n",
        "    for epoch in range(100):\n",
        "      model.update(X_tr, y_tr.reshape(-1, 1))\n",
        "    pred = model.forward(X_val)\n",
        "    pred[pred>0.5] = 1\n",
        "    pred[pred<0.5] = -1\n",
        "    acc = (pred==y_val.reshape(-1,1)).sum()/len(y_val)\n",
        "    validation_accuracy.append(acc)\n",
        "  mean_validation_accuracy3.append(np.mean(validation_accuracy))\n",
        "  print(f\"The mean accuracy of the validation set of lr {lr} is {mean_validation_accuracy3[-1]:.3%}.\")"
      ],
      "execution_count": 0,
      "outputs": [
        {
          "output_type": "stream",
          "text": [
            "The mean accuracy of the validation set of lr 0.0001 is 73.582%.\n",
            "The mean accuracy of the validation set of lr 0.0003 is 68.582%.\n",
            "The mean accuracy of the validation set of lr 0.001 is 75.299%.\n",
            "The mean accuracy of the validation set of lr 0.003 is 74.328%.\n",
            "The mean accuracy of the validation set of lr 0.01 is 78.358%.\n",
            "The mean accuracy of the validation set of lr 0.03 is 80.224%.\n",
            "The mean accuracy of the validation set of lr 1.0 is 76.940%.\n",
            "The mean accuracy of the validation set of lr 3.0 is 63.209%.\n"
          ],
          "name": "stdout"
        }
      ]
    },
    {
      "cell_type": "code",
      "metadata": {
        "id": "WpIcxrOYQsKm",
        "colab_type": "code",
        "outputId": "4772c787-6430-474f-b13f-c2124027aa73",
        "colab": {
          "base_uri": "https://localhost:8080/",
          "height": 288
        }
      },
      "source": [
        "lr_index = ['lr='+str(lr) for lr in Learning_rate]\n",
        "pd.DataFrame(mean_validation_accuracy3, columns=['Mean Validation Acc'], index=lr_index)"
      ],
      "execution_count": 0,
      "outputs": [
        {
          "output_type": "execute_result",
          "data": {
            "text/html": [
              "<div>\n",
              "<style scoped>\n",
              "    .dataframe tbody tr th:only-of-type {\n",
              "        vertical-align: middle;\n",
              "    }\n",
              "\n",
              "    .dataframe tbody tr th {\n",
              "        vertical-align: top;\n",
              "    }\n",
              "\n",
              "    .dataframe thead th {\n",
              "        text-align: right;\n",
              "    }\n",
              "</style>\n",
              "<table border=\"1\" class=\"dataframe\">\n",
              "  <thead>\n",
              "    <tr style=\"text-align: right;\">\n",
              "      <th></th>\n",
              "      <th>Mean Validation Acc</th>\n",
              "    </tr>\n",
              "  </thead>\n",
              "  <tbody>\n",
              "    <tr>\n",
              "      <th>lr=0.0001</th>\n",
              "      <td>0.735821</td>\n",
              "    </tr>\n",
              "    <tr>\n",
              "      <th>lr=0.0003</th>\n",
              "      <td>0.685821</td>\n",
              "    </tr>\n",
              "    <tr>\n",
              "      <th>lr=0.001</th>\n",
              "      <td>0.752985</td>\n",
              "    </tr>\n",
              "    <tr>\n",
              "      <th>lr=0.003</th>\n",
              "      <td>0.743284</td>\n",
              "    </tr>\n",
              "    <tr>\n",
              "      <th>lr=0.01</th>\n",
              "      <td>0.783582</td>\n",
              "    </tr>\n",
              "    <tr>\n",
              "      <th>lr=0.03</th>\n",
              "      <td>0.802239</td>\n",
              "    </tr>\n",
              "    <tr>\n",
              "      <th>lr=1.0</th>\n",
              "      <td>0.769403</td>\n",
              "    </tr>\n",
              "    <tr>\n",
              "      <th>lr=3.0</th>\n",
              "      <td>0.632090</td>\n",
              "    </tr>\n",
              "  </tbody>\n",
              "</table>\n",
              "</div>"
            ],
            "text/plain": [
              "           Mean Validation Acc\n",
              "lr=0.0001             0.735821\n",
              "lr=0.0003             0.685821\n",
              "lr=0.001              0.752985\n",
              "lr=0.003              0.743284\n",
              "lr=0.01               0.783582\n",
              "lr=0.03               0.802239\n",
              "lr=1.0                0.769403\n",
              "lr=3.0                0.632090"
            ]
          },
          "metadata": {
            "tags": []
          },
          "execution_count": 61
        }
      ]
    },
    {
      "cell_type": "markdown",
      "metadata": {
        "id": "9twvWGlh4_0o",
        "colab_type": "text"
      },
      "source": [
        "From the table above, the best learning rate for hinge loss is 0.03."
      ]
    },
    {
      "cell_type": "markdown",
      "metadata": {
        "id": "07u8tVFFRC2W",
        "colab_type": "text"
      },
      "source": [
        "### Hinge Loss Regularization"
      ]
    },
    {
      "cell_type": "markdown",
      "metadata": {
        "id": "hlFbpE55RNLF",
        "colab_type": "text"
      },
      "source": [
        "Here, I will compare two different regularization methods: L1 regularization and L2 regularization."
      ]
    },
    {
      "cell_type": "code",
      "metadata": {
        "id": "5dpqFWrPRh6s",
        "colab_type": "code",
        "colab": {}
      },
      "source": [
        "regularization = ['L1', 'L2']"
      ],
      "execution_count": 0,
      "outputs": []
    },
    {
      "cell_type": "markdown",
      "metadata": {
        "id": "vJw23kNWRpPs",
        "colab_type": "text"
      },
      "source": [
        "Then I will do the 10-folds validation on the training set for my the logistics regression model."
      ]
    },
    {
      "cell_type": "code",
      "metadata": {
        "id": "maObaoGeRN3G",
        "colab_type": "code",
        "outputId": "9fbb6197-faf2-453c-b554-3486fe43bb03",
        "colab": {
          "base_uri": "https://localhost:8080/",
          "height": 52
        }
      },
      "source": [
        "from sklearn.model_selection import KFold\n",
        "mean_validation_accuracy4 = list()\n",
        "for r in regularization:\n",
        "  validation_accuracy = []\n",
        "  for train, val in KFold(n_splits=10, shuffle=True).split(X_train):\n",
        "    X_tr = X_train[train]\n",
        "    y_tr = y_train[train]\n",
        "    X_val = X_train[val]\n",
        "    y_val = y_train[val]\n",
        "    model = LR(input_size=X_train.shape[1], learning_rate=0.03, loss_type='hinge',\n",
        "              opt_type='SGD', regularizer=r)\n",
        "    for epoch in range(100):\n",
        "      model.update(X_tr, y_tr.reshape(-1, 1))\n",
        "    pred = model.forward(X_val)\n",
        "    pred[pred>0.5] = 1\n",
        "    pred[pred<0.5] = -1\n",
        "    acc = (pred==y_val.reshape(-1,1)).sum()/len(y_val)\n",
        "    validation_accuracy.append(acc)\n",
        "  mean_validation_accuracy4.append(np.mean(validation_accuracy))\n",
        "  print(f\"The mean accuracy of the validation set of {r} regularization is {mean_validation_accuracy4[-1]:.3%}.\")"
      ],
      "execution_count": 0,
      "outputs": [
        {
          "output_type": "stream",
          "text": [
            "The mean accuracy of the validation set of L1 regularization is 67.687%.\n",
            "The mean accuracy of the validation set of L2 regularization is 80.597%.\n"
          ],
          "name": "stdout"
        }
      ]
    },
    {
      "cell_type": "code",
      "metadata": {
        "id": "qjXnLZHgR1tU",
        "colab_type": "code",
        "outputId": "7aaf9fd5-9118-4aca-8bb3-560d38c2419b",
        "colab": {
          "base_uri": "https://localhost:8080/",
          "height": 108
        }
      },
      "source": [
        "import pandas as pd\n",
        "pd.DataFrame(mean_validation_accuracy4, columns=['Mean Validation Acc'], index=['L1', 'L2'])"
      ],
      "execution_count": 0,
      "outputs": [
        {
          "output_type": "execute_result",
          "data": {
            "text/html": [
              "<div>\n",
              "<style scoped>\n",
              "    .dataframe tbody tr th:only-of-type {\n",
              "        vertical-align: middle;\n",
              "    }\n",
              "\n",
              "    .dataframe tbody tr th {\n",
              "        vertical-align: top;\n",
              "    }\n",
              "\n",
              "    .dataframe thead th {\n",
              "        text-align: right;\n",
              "    }\n",
              "</style>\n",
              "<table border=\"1\" class=\"dataframe\">\n",
              "  <thead>\n",
              "    <tr style=\"text-align: right;\">\n",
              "      <th></th>\n",
              "      <th>Mean Validation Acc</th>\n",
              "    </tr>\n",
              "  </thead>\n",
              "  <tbody>\n",
              "    <tr>\n",
              "      <th>L1</th>\n",
              "      <td>0.676866</td>\n",
              "    </tr>\n",
              "    <tr>\n",
              "      <th>L2</th>\n",
              "      <td>0.805970</td>\n",
              "    </tr>\n",
              "  </tbody>\n",
              "</table>\n",
              "</div>"
            ],
            "text/plain": [
              "    Mean Validation Acc\n",
              "L1             0.676866\n",
              "L2             0.805970"
            ]
          },
          "metadata": {
            "tags": []
          },
          "execution_count": 64
        }
      ]
    },
    {
      "cell_type": "markdown",
      "metadata": {
        "id": "THkeiv-I5Jzu",
        "colab_type": "text"
      },
      "source": [
        "From the table above, we can find that the better regularization for hinge loss is L2."
      ]
    },
    {
      "cell_type": "markdown",
      "metadata": {
        "id": "mvJ0M2KWab4W",
        "colab_type": "text"
      },
      "source": [
        "### Hinge Loss Regularizer dampening"
      ]
    },
    {
      "cell_type": "markdown",
      "metadata": {
        "id": "90J7GMmTacpJ",
        "colab_type": "text"
      },
      "source": [
        "In this part, I will find how much the regularizer needs to be dampened to get a good score."
      ]
    },
    {
      "cell_type": "code",
      "metadata": {
        "id": "blAuFX5kal9x",
        "colab_type": "code",
        "colab": {}
      },
      "source": [
        "re_damp = [0.001, 0.003, 0.005, 0.007, 0.009, 0.5, 1.0]"
      ],
      "execution_count": 0,
      "outputs": []
    },
    {
      "cell_type": "markdown",
      "metadata": {
        "id": "CcMZkMp4arVN",
        "colab_type": "text"
      },
      "source": [
        "Then I will do the 10-folds validation on the training set for my logistics regression model."
      ]
    },
    {
      "cell_type": "code",
      "metadata": {
        "id": "DR4RBZQBEQls",
        "colab_type": "code",
        "outputId": "e8166db8-b667-4539-e31e-5e90c7951989",
        "colab": {
          "base_uri": "https://localhost:8080/",
          "height": 138
        }
      },
      "source": [
        "mean_validation_accuracy5 = list()\n",
        "for rd in re_damp:\n",
        "  validation_accuracy = []\n",
        "  for train, val in KFold(n_splits=10, shuffle=True).split(X_train):\n",
        "    X_tr = X_train[train]\n",
        "    y_tr = y_train[train]\n",
        "    X_val = X_train[val]\n",
        "    y_val = y_train[val]\n",
        "    model = LR(input_size=X_train.shape[1], learning_rate=0.03, loss_type='hinge',\n",
        "              opt_type='SGD', regularizer=\"L2\", beta=rd)\n",
        "    for epoch in range(100):\n",
        "      model.update(X_tr, y_tr.reshape(-1, 1))\n",
        "    pred = model.forward(X_val)\n",
        "    pred[pred>0.5] = 1\n",
        "    pred[pred<0.5] = -1\n",
        "    acc = (pred==y_val.reshape(-1,1)).sum()/len(y_val)\n",
        "    validation_accuracy.append(acc)\n",
        "  mean_validation_accuracy5.append(np.mean(validation_accuracy))\n",
        "  print(f\"The mean accuracy of the validation set of regu_damp {rd} is {mean_validation_accuracy5[-1]:.3%}.\")"
      ],
      "execution_count": 0,
      "outputs": [
        {
          "output_type": "stream",
          "text": [
            "The mean accuracy of the validation set of regu_damp 0.001 is 79.925%.\n",
            "The mean accuracy of the validation set of regu_damp 0.003 is 79.851%.\n",
            "The mean accuracy of the validation set of regu_damp 0.005 is 80.672%.\n",
            "The mean accuracy of the validation set of regu_damp 0.007 is 80.597%.\n",
            "The mean accuracy of the validation set of regu_damp 0.009 is 80.448%.\n",
            "The mean accuracy of the validation set of regu_damp 0.5 is 77.687%.\n",
            "The mean accuracy of the validation set of regu_damp 1.0 is 77.239%.\n"
          ],
          "name": "stdout"
        }
      ]
    },
    {
      "cell_type": "code",
      "metadata": {
        "id": "cs0c0_3wbBGu",
        "colab_type": "code",
        "outputId": "5d27b703-14aa-4755-b5e8-0c7d4491c49c",
        "colab": {
          "base_uri": "https://localhost:8080/",
          "height": 258
        }
      },
      "source": [
        "re_dam_index = ['beta='+str(rd) for rd in re_damp]\n",
        "pd.DataFrame(mean_validation_accuracy5, columns=['Mean Validation Acc'], index=re_dam_index)"
      ],
      "execution_count": 0,
      "outputs": [
        {
          "output_type": "execute_result",
          "data": {
            "text/html": [
              "<div>\n",
              "<style scoped>\n",
              "    .dataframe tbody tr th:only-of-type {\n",
              "        vertical-align: middle;\n",
              "    }\n",
              "\n",
              "    .dataframe tbody tr th {\n",
              "        vertical-align: top;\n",
              "    }\n",
              "\n",
              "    .dataframe thead th {\n",
              "        text-align: right;\n",
              "    }\n",
              "</style>\n",
              "<table border=\"1\" class=\"dataframe\">\n",
              "  <thead>\n",
              "    <tr style=\"text-align: right;\">\n",
              "      <th></th>\n",
              "      <th>Mean Validation Acc</th>\n",
              "    </tr>\n",
              "  </thead>\n",
              "  <tbody>\n",
              "    <tr>\n",
              "      <th>beta=0.001</th>\n",
              "      <td>0.799254</td>\n",
              "    </tr>\n",
              "    <tr>\n",
              "      <th>beta=0.003</th>\n",
              "      <td>0.798507</td>\n",
              "    </tr>\n",
              "    <tr>\n",
              "      <th>beta=0.005</th>\n",
              "      <td>0.806716</td>\n",
              "    </tr>\n",
              "    <tr>\n",
              "      <th>beta=0.007</th>\n",
              "      <td>0.805970</td>\n",
              "    </tr>\n",
              "    <tr>\n",
              "      <th>beta=0.009</th>\n",
              "      <td>0.804478</td>\n",
              "    </tr>\n",
              "    <tr>\n",
              "      <th>beta=0.5</th>\n",
              "      <td>0.776866</td>\n",
              "    </tr>\n",
              "    <tr>\n",
              "      <th>beta=1.0</th>\n",
              "      <td>0.772388</td>\n",
              "    </tr>\n",
              "  </tbody>\n",
              "</table>\n",
              "</div>"
            ],
            "text/plain": [
              "            Mean Validation Acc\n",
              "beta=0.001             0.799254\n",
              "beta=0.003             0.798507\n",
              "beta=0.005             0.806716\n",
              "beta=0.007             0.805970\n",
              "beta=0.009             0.804478\n",
              "beta=0.5               0.776866\n",
              "beta=1.0               0.772388"
            ]
          },
          "metadata": {
            "tags": []
          },
          "execution_count": 67
        }
      ]
    },
    {
      "cell_type": "markdown",
      "metadata": {
        "id": "fFwQLNiX5WgO",
        "colab_type": "text"
      },
      "source": [
        "From the table above, we can find that the best L2 regularization dampen for hinge loss is 0.005."
      ]
    },
    {
      "cell_type": "markdown",
      "metadata": {
        "id": "MYRtjC3RkLLK",
        "colab_type": "text"
      },
      "source": [
        "### Final set of hyperparameters for Hinge loss\n",
        "- Learning Rate: 0.03\n",
        "- Regularization: L2\n",
        "- Regularization dampen: 0.005"
      ]
    },
    {
      "cell_type": "markdown",
      "metadata": {
        "id": "CogbEq_tkjVs",
        "colab_type": "text"
      },
      "source": [
        "## Final Comparasion between hinge loss and logistic loss"
      ]
    },
    {
      "cell_type": "markdown",
      "metadata": {
        "id": "9yMyeKdblkBR",
        "colab_type": "text"
      },
      "source": [
        "### Logistics loss:"
      ]
    },
    {
      "cell_type": "code",
      "metadata": {
        "id": "z2YQcDAkko4Z",
        "colab_type": "code",
        "outputId": "edb6e851-a994-464c-ece5-2e9af2742a0f",
        "colab": {
          "base_uri": "https://localhost:8080/",
          "height": 104
        }
      },
      "source": [
        "logistic_model = LR(input_size=X_train.shape[1], learning_rate=1.0, loss_type='logistic',\n",
        "                    opt_type='SGD', regularizer='L2', beta=0.003)\n",
        "for epoch in range(100):\n",
        "    total_loss = 0.\n",
        "    for batch_data in data_iter:\n",
        "        X_batch, y_batch = batch_data\n",
        "        y_batch[y_batch < 0] = 0\n",
        "        total_loss += logistic_model.update(X_batch, y_batch.reshape(-1, 1))\n",
        "    if (epoch+1) % 20 == 0:\n",
        "        print(f\"Epoch: {epoch+1}/{num_epochs}. Avg Loss: {total_loss/len(y_train):.8f}.\")"
      ],
      "execution_count": 0,
      "outputs": [
        {
          "output_type": "stream",
          "text": [
            "Epoch: 20/100. Avg Loss: 0.00104613.\n",
            "Epoch: 40/100. Avg Loss: 0.00104451.\n",
            "Epoch: 60/100. Avg Loss: 0.00104445.\n",
            "Epoch: 80/100. Avg Loss: 0.00104444.\n",
            "Epoch: 100/100. Avg Loss: 0.00104444.\n"
          ],
          "name": "stdout"
        }
      ]
    },
    {
      "cell_type": "code",
      "metadata": {
        "id": "aigDe0w8lQ0I",
        "colab_type": "code",
        "outputId": "e560d076-a9af-4dc7-c51c-70166128e976",
        "colab": {
          "base_uri": "https://localhost:8080/",
          "height": 35
        }
      },
      "source": [
        "pred = logistic_model.forward(X_test)\n",
        "pred[pred>0.5] = 1\n",
        "pred[pred<0.5] = -1\n",
        "print(f\"The accuracy on the test set for logistics loss is {(pred==y_test.reshape(-1,1)).sum()/len(y_test):.3%}.\")"
      ],
      "execution_count": 0,
      "outputs": [
        {
          "output_type": "stream",
          "text": [
            "The accuracy on the test set for logistics loss is 87.273%.\n"
          ],
          "name": "stdout"
        }
      ]
    },
    {
      "cell_type": "markdown",
      "metadata": {
        "id": "sF7P4s5jlnVl",
        "colab_type": "text"
      },
      "source": [
        "### Hinge Loss:"
      ]
    },
    {
      "cell_type": "code",
      "metadata": {
        "id": "-AmSaYZhliJO",
        "colab_type": "code",
        "outputId": "133290f8-677d-4720-b9e2-d00e84ad12d8",
        "colab": {
          "base_uri": "https://localhost:8080/",
          "height": 104
        }
      },
      "source": [
        "hinge_model = LR(input_size=X_train.shape[1], learning_rate=0.03, loss_type='hinge',\n",
        "                opt_type='SGD', regularizer='L2', beta=0.005)\n",
        "for epoch in range(100):\n",
        "    total_loss = 0.\n",
        "    for batch_data in data_iter:\n",
        "        X_batch, y_batch = batch_data\n",
        "        y_batch[y_batch < 1] = -1\n",
        "        total_loss += hinge_model.update(X_batch, y_batch.reshape(-1, 1))\n",
        "    if (epoch+1) % 20 == 0:\n",
        "        print(f\"Epoch: {epoch+1}/{num_epochs}. Avg Loss: {total_loss/len(y_train):.8f}.\")"
      ],
      "execution_count": 0,
      "outputs": [
        {
          "output_type": "stream",
          "text": [
            "Epoch: 20/100. Avg Loss: 0.01201730.\n",
            "Epoch: 40/100. Avg Loss: 0.01089964.\n",
            "Epoch: 60/100. Avg Loss: 0.01037005.\n",
            "Epoch: 80/100. Avg Loss: 0.01006413.\n",
            "Epoch: 100/100. Avg Loss: 0.00986969.\n"
          ],
          "name": "stdout"
        }
      ]
    },
    {
      "cell_type": "code",
      "metadata": {
        "id": "enI6sFrVlzFh",
        "colab_type": "code",
        "outputId": "689f10b0-0c04-446e-94ce-e583eef2f034",
        "colab": {
          "base_uri": "https://localhost:8080/",
          "height": 35
        }
      },
      "source": [
        "pred = hinge_model.forward(X_test)\n",
        "pred[pred>0.5] = 1\n",
        "pred[pred<0.5] = -1\n",
        "print(f\"The accuracy on the test set for hinge loss is {(pred==y_test.reshape(-1,1)).sum()/len(y_test):.3%}.\")"
      ],
      "execution_count": 0,
      "outputs": [
        {
          "output_type": "stream",
          "text": [
            "The accuracy on the test set for hinge loss is 85.152%.\n"
          ],
          "name": "stdout"
        }
      ]
    },
    {
      "cell_type": "markdown",
      "metadata": {
        "id": "pY262aQQ5rsM",
        "colab_type": "text"
      },
      "source": [
        "### Comparasion"
      ]
    },
    {
      "cell_type": "code",
      "metadata": {
        "id": "YA2sc1FNojh_",
        "colab_type": "code",
        "outputId": "849fbf00-e9d3-4789-cc99-83322537705e",
        "colab": {
          "base_uri": "https://localhost:8080/",
          "height": 108
        }
      },
      "source": [
        "pd.DataFrame(data=[0.87273, 0.85152], index=['Logistics Loss', 'Hinge Loss'], columns=['Finally Test Set Acc'])"
      ],
      "execution_count": 0,
      "outputs": [
        {
          "output_type": "execute_result",
          "data": {
            "text/html": [
              "<div>\n",
              "<style scoped>\n",
              "    .dataframe tbody tr th:only-of-type {\n",
              "        vertical-align: middle;\n",
              "    }\n",
              "\n",
              "    .dataframe tbody tr th {\n",
              "        vertical-align: top;\n",
              "    }\n",
              "\n",
              "    .dataframe thead th {\n",
              "        text-align: right;\n",
              "    }\n",
              "</style>\n",
              "<table border=\"1\" class=\"dataframe\">\n",
              "  <thead>\n",
              "    <tr style=\"text-align: right;\">\n",
              "      <th></th>\n",
              "      <th>Finally Test Set Acc</th>\n",
              "    </tr>\n",
              "  </thead>\n",
              "  <tbody>\n",
              "    <tr>\n",
              "      <th>Logistics Loss</th>\n",
              "      <td>0.87273</td>\n",
              "    </tr>\n",
              "    <tr>\n",
              "      <th>Hinge Loss</th>\n",
              "      <td>0.85152</td>\n",
              "    </tr>\n",
              "  </tbody>\n",
              "</table>\n",
              "</div>"
            ],
            "text/plain": [
              "                Finally Test Set Acc\n",
              "Logistics Loss               0.87273\n",
              "Hinge Loss                   0.85152"
            ]
          },
          "metadata": {
            "tags": []
          },
          "execution_count": 97
        }
      ]
    },
    {
      "cell_type": "markdown",
      "metadata": {
        "id": "bN8hCyh4pX9L",
        "colab_type": "text"
      },
      "source": [
        "We can see that the accuracy of logistics loss is higher than hinge loss."
      ]
    },
    {
      "cell_type": "markdown",
      "metadata": {
        "id": "mr1g5lTApiQV",
        "colab_type": "text"
      },
      "source": [
        "### Plot the weight of logistics loss model:"
      ]
    },
    {
      "cell_type": "code",
      "metadata": {
        "id": "c4oLmGU1psKm",
        "colab_type": "code",
        "outputId": "bea19ef9-d177-440a-de45-149db5c294da",
        "colab": {
          "base_uri": "https://localhost:8080/",
          "height": 241
        }
      },
      "source": [
        "plt.figure(figsize=(20, 3))\n",
        "plt.plot(logistic_model.W.ravel())\n",
        "plt.xlabel(\"Value\")\n",
        "plt.xlabel(\"Weights\")\n",
        "plt.title(\"Logistics Loss Model Weight\")\n",
        "plt.show()"
      ],
      "execution_count": 0,
      "outputs": [
        {
          "output_type": "display_data",
          "data": {
            "image/png": "[encoded data removed]",
            "text/plain": [
              "<Figure size 1440x216 with 1 Axes>"
            ]
          },
          "metadata": {
            "tags": []
          }
        }
      ]
    },
    {
      "cell_type": "markdown",
      "metadata": {
        "id": "VoQw6OfVqE-s",
        "colab_type": "text"
      },
      "source": [
        "### Plot the weight of hinge loss model:"
      ]
    },
    {
      "cell_type": "code",
      "metadata": {
        "id": "9V09JVUTp6J4",
        "colab_type": "code",
        "outputId": "620466a0-64f6-4c41-9b43-944cdd4835b5",
        "colab": {
          "base_uri": "https://localhost:8080/",
          "height": 241
        }
      },
      "source": [
        "plt.figure(figsize=(20, 3))\n",
        "plt.plot(hinge_model.W.ravel())\n",
        "plt.xlabel(\"Value\")\n",
        "plt.xlabel(\"Weights\")\n",
        "plt.title(\"Hinge Loss Model Weight\")\n",
        "plt.show()"
      ],
      "execution_count": 0,
      "outputs": [
        {
          "output_type": "display_data",
          "data": {
            "image/png": "[encoded data removed]",
            "text/plain": [
              "<Figure size 1440x216 with 1 Axes>"
            ]
          },
          "metadata": {
            "tags": []
          }
        }
      ]
    },
    {
      "cell_type": "markdown",
      "metadata": {
        "id": "bVTG2OzGyjkk",
        "colab_type": "text"
      },
      "source": [
        "# Extra"
      ]
    },
    {
      "cell_type": "markdown",
      "metadata": {
        "id": "JQGp7ck66DrM",
        "colab_type": "text"
      },
      "source": [
        "Create training and test data:"
      ]
    },
    {
      "cell_type": "code",
      "metadata": {
        "id": "VmFFJLwv0GN4",
        "colab_type": "code",
        "colab": {}
      },
      "source": [
        "index = list(range(2000))\n",
        "random.shuffle(index)\n",
        "train_index = index[:1500]\n",
        "test_index = index[1500:]\n",
        "X_train_bow = X_vector[train_index]\n",
        "X_test_bow = X_vector[test_index]\n",
        "X_train_tfidf = X_vector[train_index]\n",
        "X_test_tfidf = X_vector[test_index]\n",
        "y_train = y[train_index]\n",
        "y_test = y[test_index]"
      ],
      "execution_count": 0,
      "outputs": []
    },
    {
      "cell_type": "markdown",
      "metadata": {
        "id": "utDNPUzN05UT",
        "colab_type": "text"
      },
      "source": [
        "I will compare 6 different models:\n",
        "- Logistic+bow+sgd\n",
        "- Logistic+bow+RMSprop\n",
        "- Logistic+bow+momentum\n",
        "- Logistic+tfidf+sgd\n",
        "- Logistic+tfidf+RMSprop\n",
        "- Logistic+tfidf+momentum\n",
        "\n",
        "These models use the same learning rate and the same loss function. Also they don't use any regularization method."
      ]
    },
    {
      "cell_type": "markdown",
      "metadata": {
        "id": "HfyAQX7F6lfJ",
        "colab_type": "text"
      },
      "source": [
        "### (1) Logistic+bow+sgd"
      ]
    },
    {
      "cell_type": "code",
      "metadata": {
        "id": "jHc_3dv_1ZIx",
        "colab_type": "code",
        "outputId": "7e806b35-875c-4b89-b506-52d1e4813bf1",
        "colab": {
          "base_uri": "https://localhost:8080/",
          "height": 121
        }
      },
      "source": [
        "model = LR(input_size=X_train_bow.shape[1], learning_rate=0.001, loss_type='logistic',\n",
        "           opt_type='SGD', regularizer=None)\n",
        "for epoch in range(100):\n",
        "    y_train[y_train < 1] = 0\n",
        "    total_loss = model.update(X_train_bow, y_train.reshape(-1, 1))\n",
        "    if (epoch+1) % 20 == 0:\n",
        "        print(f\"Epoch: {epoch+1}/{100}. Avg Loss: {total_loss/len(y_train):.8f}.\")\n",
        "pred = model.forward(X_test_bow)\n",
        "pred[pred>0.5] = 1\n",
        "pred[pred<0.5] = -1\n",
        "print(f\"The accuracy on the test set for \\\"Logistic+bow+sgd\\\" is {(pred==y_test.reshape(-1,1)).sum()/len(y_test):.3%}.\")"
      ],
      "execution_count": 0,
      "outputs": [
        {
          "output_type": "stream",
          "text": [
            "Epoch: 20/100. Avg Loss: 0.00046035.\n",
            "Epoch: 40/100. Avg Loss: 0.00045855.\n",
            "Epoch: 60/100. Avg Loss: 0.00045679.\n",
            "Epoch: 80/100. Avg Loss: 0.00045505.\n",
            "Epoch: 100/100. Avg Loss: 0.00045333.\n",
            "The accuracy on the test set for \"Logistic+bow+sgd\" is 60.600%.\n"
          ],
          "name": "stdout"
        }
      ]
    },
    {
      "cell_type": "markdown",
      "metadata": {
        "id": "UDrbrm0A6uqy",
        "colab_type": "text"
      },
      "source": [
        "### (2) Logistic+bow+RMSprop"
      ]
    },
    {
      "cell_type": "code",
      "metadata": {
        "id": "OH0_k7uz4QNL",
        "colab_type": "code",
        "outputId": "a5535d10-337f-48ac-ea8c-2dab80dcce95",
        "colab": {
          "base_uri": "https://localhost:8080/",
          "height": 121
        }
      },
      "source": [
        "model = LR(input_size=X_train_bow.shape[1], learning_rate=0.001, loss_type='logistic',\n",
        "           opt_type='RMSprop', regularizer=None)\n",
        "for epoch in range(100):\n",
        "    y_train[y_train < 1] = 0\n",
        "    total_loss = model.update(X_train_bow, y_train.reshape(-1, 1))\n",
        "    if (epoch+1) % 20 == 0:\n",
        "        print(f\"Epoch: {epoch+1}/{1000}. Avg Loss: {total_loss/len(y_train):.8f}.\")\n",
        "pred = model.forward(X_test_bow)\n",
        "pred[pred>0.5] = 1\n",
        "pred[pred<0.5] = -1\n",
        "print(f\"The accuracy on the test set for \\\"Logistic+bow+RMSprop\\\" is {(pred==y_test.reshape(-1,1)).sum()/len(y_test):.3%}.\")"
      ],
      "execution_count": 0,
      "outputs": [
        {
          "output_type": "stream",
          "text": [
            "Epoch: 20/1000. Avg Loss: 0.00018256.\n",
            "Epoch: 40/1000. Avg Loss: 0.00009934.\n",
            "Epoch: 60/1000. Avg Loss: 0.00005706.\n",
            "Epoch: 80/1000. Avg Loss: 0.00003427.\n",
            "Epoch: 100/1000. Avg Loss: 0.00002158.\n",
            "The accuracy on the test set for \"Logistic+bow+RMSprop\" is 83.600%.\n"
          ],
          "name": "stdout"
        }
      ]
    },
    {
      "cell_type": "markdown",
      "metadata": {
        "id": "D0kWqLZv6zdo",
        "colab_type": "text"
      },
      "source": [
        "### (3) Logistic+bow+momentum"
      ]
    },
    {
      "cell_type": "code",
      "metadata": {
        "id": "YkzPK5a84Wuj",
        "colab_type": "code",
        "outputId": "c684ea84-1c61-4ba6-8290-fd99da512058",
        "colab": {
          "base_uri": "https://localhost:8080/",
          "height": 121
        }
      },
      "source": [
        "model = LR(input_size=X_train_bow.shape[1], learning_rate=0.001, loss_type='logistic',\n",
        "           opt_type='momentum', regularizer=None)\n",
        "for epoch in range(100):\n",
        "    y_train[y_train < 1] = 0\n",
        "    total_loss = model.update(X_train_bow, y_train.reshape(-1, 1))\n",
        "    if (epoch+1) % 20 == 0:\n",
        "        print(f\"Epoch: {epoch+1}/{100}. Avg Loss: {total_loss/len(y_train):.8f}.\")\n",
        "pred = model.forward(X_test_bow)\n",
        "pred[pred>0.5] = 1\n",
        "pred[pred<0.5] = -1\n",
        "print(f\"The accuracy on the test set for \\\"Logistic+bow+momentum\\\" is {(pred==y_test.reshape(-1,1)).sum()/len(y_test):.3%}.\")"
      ],
      "execution_count": 0,
      "outputs": [
        {
          "output_type": "stream",
          "text": [
            "Epoch: 20/100. Avg Loss: 0.00045214.\n",
            "Epoch: 40/100. Avg Loss: 0.00043667.\n",
            "Epoch: 60/100. Avg Loss: 0.00042167.\n",
            "Epoch: 80/100. Avg Loss: 0.00040777.\n",
            "Epoch: 100/100. Avg Loss: 0.00039495.\n",
            "The accuracy on the test set for \"Logistic+bow+momentum\" is 80.400%.\n"
          ],
          "name": "stdout"
        }
      ]
    },
    {
      "cell_type": "markdown",
      "metadata": {
        "id": "u8asO5nZ62im",
        "colab_type": "text"
      },
      "source": [
        "### (4) Logistic+tfidf+sgd"
      ]
    },
    {
      "cell_type": "code",
      "metadata": {
        "id": "POVemeVA4iNz",
        "colab_type": "code",
        "outputId": "44b9d91d-1c49-4f2d-88b9-002e4bda54f8",
        "colab": {
          "base_uri": "https://localhost:8080/",
          "height": 121
        }
      },
      "source": [
        "model = LR(input_size=X_train_tfidf.shape[1], learning_rate=0.001, loss_type='logistic',\n",
        "           opt_type='SGD', regularizer=None)\n",
        "for epoch in range(100):\n",
        "    y_train[y_train < 1] = 0\n",
        "    total_loss = model.update(X_train_tfidf, y_train.reshape(-1, 1))\n",
        "    if (epoch+1) % 20 == 0:\n",
        "        print(f\"Epoch: {epoch+1}/{100}. Avg Loss: {total_loss/len(y_train):.8f}.\")\n",
        "pred = model.forward(X_test_tfidf)\n",
        "pred[pred>0.5] = 1\n",
        "pred[pred<0.5] = -1\n",
        "print(f\"The accuracy on the test set for \\\"Logistic+tfidf+sgd\\\" is {(pred==y_test.reshape(-1,1)).sum()/len(y_test):.3%}.\")"
      ],
      "execution_count": 0,
      "outputs": [
        {
          "output_type": "stream",
          "text": [
            "Epoch: 20/100. Avg Loss: 0.00046035.\n",
            "Epoch: 40/100. Avg Loss: 0.00045855.\n",
            "Epoch: 60/100. Avg Loss: 0.00045679.\n",
            "Epoch: 80/100. Avg Loss: 0.00045505.\n",
            "Epoch: 100/100. Avg Loss: 0.00045333.\n",
            "The accuracy on the test set for \"Logistic+tfidf+sgd\" is 60.600%.\n"
          ],
          "name": "stdout"
        }
      ]
    },
    {
      "cell_type": "markdown",
      "metadata": {
        "id": "kRR4DlPS65T-",
        "colab_type": "text"
      },
      "source": [
        "### (5) Logistic+tfidf+RMSprop"
      ]
    },
    {
      "cell_type": "code",
      "metadata": {
        "id": "IYMI_erA4tMD",
        "colab_type": "code",
        "outputId": "ec5dd847-04ef-49f2-cbc8-3cd79f8432b6",
        "colab": {
          "base_uri": "https://localhost:8080/",
          "height": 121
        }
      },
      "source": [
        "model = LR(input_size=X_train_tfidf.shape[1], learning_rate=0.001, loss_type='logistic',\n",
        "           opt_type='RMSprop', regularizer=None)\n",
        "for epoch in range(100):\n",
        "    y_train[y_train < 1] = 0\n",
        "    total_loss = model.update(X_train_tfidf, y_train.reshape(-1, 1))\n",
        "    if (epoch+1) % 20 == 0:\n",
        "        print(f\"Epoch: {epoch+1}/{100}. Avg Loss: {total_loss/len(y_train):.8f}.\")\n",
        "pred = model.forward(X_test_tfidf)\n",
        "pred[pred>0.5] = 1\n",
        "pred[pred<0.5] = -1\n",
        "print(f\"The accuracy on the test set for \\\"Logistic+tfidf+RMSprop\\\" is {(pred==y_test.reshape(-1,1)).sum()/len(y_test):.3%}.\")"
      ],
      "execution_count": 0,
      "outputs": [
        {
          "output_type": "stream",
          "text": [
            "Epoch: 20/100. Avg Loss: 0.00018256.\n",
            "Epoch: 40/100. Avg Loss: 0.00009934.\n",
            "Epoch: 60/100. Avg Loss: 0.00005706.\n",
            "Epoch: 80/100. Avg Loss: 0.00003427.\n",
            "Epoch: 100/100. Avg Loss: 0.00002158.\n",
            "The accuracy on the test set for \"Logistic+tfidf+RMSprop\" is 83.600%.\n"
          ],
          "name": "stdout"
        }
      ]
    },
    {
      "cell_type": "markdown",
      "metadata": {
        "id": "snsqinWH681A",
        "colab_type": "text"
      },
      "source": [
        "### (6) Logistic+tfidf+momentum"
      ]
    },
    {
      "cell_type": "code",
      "metadata": {
        "id": "iMOYlH7X4yjr",
        "colab_type": "code",
        "outputId": "386bf592-29ab-4bfb-f24e-52fabd05f7e7",
        "colab": {
          "base_uri": "https://localhost:8080/",
          "height": 121
        }
      },
      "source": [
        "model = LR(input_size=X_train_tfidf.shape[1], learning_rate=0.001, loss_type='logistic',\n",
        "           opt_type='momentum', regularizer=None)\n",
        "for epoch in range(100):\n",
        "    y_train[y_train < 1] = 0\n",
        "    total_loss = model.update(X_train_tfidf, y_train.reshape(-1, 1))\n",
        "    if (epoch+1) % 20 == 0:\n",
        "        print(f\"Epoch: {epoch+1}/{100}. Avg Loss: {total_loss/len(y_train):.8f}.\")\n",
        "pred = model.forward(X_test_tfidf)\n",
        "pred[pred>0.5] = 1\n",
        "pred[pred<0.5] = -1\n",
        "print(f\"The accuracy on the test set for \\\"Logistic+tfidf+momentum\\\" is {(pred==y_test.reshape(-1,1)).sum()/len(y_test):.3%}.\")"
      ],
      "execution_count": 0,
      "outputs": [
        {
          "output_type": "stream",
          "text": [
            "Epoch: 20/100. Avg Loss: 0.00045214.\n",
            "Epoch: 40/100. Avg Loss: 0.00043667.\n",
            "Epoch: 60/100. Avg Loss: 0.00042167.\n",
            "Epoch: 80/100. Avg Loss: 0.00040777.\n",
            "Epoch: 100/100. Avg Loss: 0.00039495.\n",
            "The accuracy on the test set for \"Logistic+tfidf+momentum\" is 80.400%.\n"
          ],
          "name": "stdout"
        }
      ]
    },
    {
      "cell_type": "markdown",
      "metadata": {
        "id": "KWg7-u596MM2",
        "colab_type": "text"
      },
      "source": [
        "## Accuracy Comparasion"
      ]
    },
    {
      "cell_type": "code",
      "metadata": {
        "id": "W4bGR1h46O2_",
        "colab_type": "code",
        "outputId": "f9e6b0a3-c60a-4971-976c-0f790714920e",
        "colab": {
          "base_uri": "https://localhost:8080/",
          "height": 228
        }
      },
      "source": [
        "import pandas as pd\n",
        "model_index = ['Logistic+bow+sgd', 'Logistic+bow+RMSprop', 'Logistic+bow+momentum',\n",
        "              'Logistic+tfidf+sgd', 'Logistic+tfidf+RMSprop', 'Logistic+tfidf+momentum']\n",
        "pd.DataFrame(data=[0.606, 0.836, 0.804, 0.606, 0.836, 0.804], index=model_index, columns=['Test Set Acc'])"
      ],
      "execution_count": 0,
      "outputs": [
        {
          "output_type": "execute_result",
          "data": {
            "text/html": [
              "<div>\n",
              "<style scoped>\n",
              "    .dataframe tbody tr th:only-of-type {\n",
              "        vertical-align: middle;\n",
              "    }\n",
              "\n",
              "    .dataframe tbody tr th {\n",
              "        vertical-align: top;\n",
              "    }\n",
              "\n",
              "    .dataframe thead th {\n",
              "        text-align: right;\n",
              "    }\n",
              "</style>\n",
              "<table border=\"1\" class=\"dataframe\">\n",
              "  <thead>\n",
              "    <tr style=\"text-align: right;\">\n",
              "      <th></th>\n",
              "      <th>Test Set Acc</th>\n",
              "    </tr>\n",
              "  </thead>\n",
              "  <tbody>\n",
              "    <tr>\n",
              "      <th>Logistic+bow+sgd</th>\n",
              "      <td>0.606</td>\n",
              "    </tr>\n",
              "    <tr>\n",
              "      <th>Logistic+bow+RMSprop</th>\n",
              "      <td>0.836</td>\n",
              "    </tr>\n",
              "    <tr>\n",
              "      <th>Logistic+bow+momentum</th>\n",
              "      <td>0.804</td>\n",
              "    </tr>\n",
              "    <tr>\n",
              "      <th>Logistic+tfidf+sgd</th>\n",
              "      <td>0.606</td>\n",
              "    </tr>\n",
              "    <tr>\n",
              "      <th>Logistic+tfidf+RMSprop</th>\n",
              "      <td>0.836</td>\n",
              "    </tr>\n",
              "    <tr>\n",
              "      <th>Logistic+tfidf+momentum</th>\n",
              "      <td>0.804</td>\n",
              "    </tr>\n",
              "  </tbody>\n",
              "</table>\n",
              "</div>"
            ],
            "text/plain": [
              "                         Test Set Acc\n",
              "Logistic+bow+sgd                0.606\n",
              "Logistic+bow+RMSprop            0.836\n",
              "Logistic+bow+momentum           0.804\n",
              "Logistic+tfidf+sgd              0.606\n",
              "Logistic+tfidf+RMSprop          0.836\n",
              "Logistic+tfidf+momentum         0.804"
            ]
          },
          "metadata": {
            "tags": []
          },
          "execution_count": 49
        }
      ]
    },
    {
      "cell_type": "markdown",
      "metadata": {
        "id": "eNrD94bo7IwM",
        "colab_type": "text"
      },
      "source": [
        "From the table above, we can find that RMSprop is the best optimization method among these three methods. Momentum method is also much better than sgd method. Tfidf and bow feature extraction methods behave similarly in this problem."
      ]
    }
  ]
}